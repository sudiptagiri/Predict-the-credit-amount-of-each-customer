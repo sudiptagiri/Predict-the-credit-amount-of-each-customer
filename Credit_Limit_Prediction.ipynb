{
 "cells": [
  {
   "cell_type": "markdown",
   "id": "eed9bdb4-942e-4f37-b9d6-87c61c4d3f7e",
   "metadata": {},
   "source": [
    "# Predict the credit amount of each customer"
   ]
  },
  {
   "cell_type": "markdown",
   "id": "2bf34eea-a0ca-4ff0-a399-307c323b701e",
   "metadata": {},
   "source": [
    "SUDIPTA GIRI"
   ]
  },
  {
   "cell_type": "markdown",
   "id": "831a7d2f-399f-47f5-b555-d52ffbdebbb4",
   "metadata": {},
   "source": [
    "## IMPORTING LIBARIES"
   ]
  },
  {
   "cell_type": "code",
   "execution_count": 1,
   "id": "8ebda2db-6ee3-453a-a3c0-02cc2cc76e83",
   "metadata": {},
   "outputs": [
    {
     "name": "stdout",
     "output_type": "stream",
     "text": [
      "Requirement already satisfied: missingno in c:\\users\\hp\\anaconda3\\lib\\site-packages (0.5.2)\n",
      "Requirement already satisfied: numpy in c:\\users\\hp\\anaconda3\\lib\\site-packages (from missingno) (1.26.4)\n",
      "Requirement already satisfied: matplotlib in c:\\users\\hp\\anaconda3\\lib\\site-packages (from missingno) (3.8.0)\n",
      "Requirement already satisfied: scipy in c:\\users\\hp\\anaconda3\\lib\\site-packages (from missingno) (1.11.4)\n",
      "Requirement already satisfied: seaborn in c:\\users\\hp\\anaconda3\\lib\\site-packages (from missingno) (0.12.2)\n",
      "Requirement already satisfied: contourpy>=1.0.1 in c:\\users\\hp\\anaconda3\\lib\\site-packages (from matplotlib->missingno) (1.2.0)\n",
      "Requirement already satisfied: cycler>=0.10 in c:\\users\\hp\\anaconda3\\lib\\site-packages (from matplotlib->missingno) (0.11.0)\n",
      "Requirement already satisfied: fonttools>=4.22.0 in c:\\users\\hp\\anaconda3\\lib\\site-packages (from matplotlib->missingno) (4.25.0)\n",
      "Requirement already satisfied: kiwisolver>=1.0.1 in c:\\users\\hp\\anaconda3\\lib\\site-packages (from matplotlib->missingno) (1.4.4)\n",
      "Requirement already satisfied: packaging>=20.0 in c:\\users\\hp\\anaconda3\\lib\\site-packages (from matplotlib->missingno) (23.1)\n",
      "Requirement already satisfied: pillow>=6.2.0 in c:\\users\\hp\\anaconda3\\lib\\site-packages (from matplotlib->missingno) (10.2.0)\n",
      "Requirement already satisfied: pyparsing>=2.3.1 in c:\\users\\hp\\anaconda3\\lib\\site-packages (from matplotlib->missingno) (3.0.9)\n",
      "Requirement already satisfied: python-dateutil>=2.7 in c:\\users\\hp\\anaconda3\\lib\\site-packages (from matplotlib->missingno) (2.8.2)\n",
      "Requirement already satisfied: pandas>=0.25 in c:\\users\\hp\\anaconda3\\lib\\site-packages (from seaborn->missingno) (2.1.4)\n",
      "Requirement already satisfied: pytz>=2020.1 in c:\\users\\hp\\anaconda3\\lib\\site-packages (from pandas>=0.25->seaborn->missingno) (2023.3.post1)\n",
      "Requirement already satisfied: tzdata>=2022.1 in c:\\users\\hp\\anaconda3\\lib\\site-packages (from pandas>=0.25->seaborn->missingno) (2023.3)\n",
      "Requirement already satisfied: six>=1.5 in c:\\users\\hp\\anaconda3\\lib\\site-packages (from python-dateutil>=2.7->matplotlib->missingno) (1.16.0)\n"
     ]
    }
   ],
   "source": [
    "!pip install missingno"
   ]
  },
  {
   "cell_type": "code",
   "execution_count": 2,
   "id": "b973c9c6-1250-4221-85a6-f902e54075ec",
   "metadata": {},
   "outputs": [],
   "source": [
    "import warnings\n",
    "warnings.filterwarnings('ignore')\n",
    "import numpy as np\n",
    "import pandas as pd\n",
    "\n",
    "#visualizing libraries\n",
    "import matplotlib\n",
    "import matplotlib.pyplot as plt\n",
    "import matplotlib.style as style\n",
    "from matplotlib import colors\n",
    "from mpl_toolkits.mplot3d import Axes3D\n",
    "from matplotlib.colors import ListedColormap\n",
    "\n",
    "import plotly.express as px\n",
    "import plotly.graph_objs as go\n",
    "import plotly.figure_factory as ff\n",
    "from plotly.subplots import make_subplots\n",
    "import plotly.offline as pyo\n",
    "from plotly import tools\n",
    "import seaborn as sns\n",
    "import missingno as msno\n",
    "#for visualizing missing data"
   ]
  },
  {
   "cell_type": "markdown",
   "id": "141dd6e9-cd1a-467c-9789-5a8561cdf968",
   "metadata": {},
   "source": [
    "## IMPORTING DATASET"
   ]
  },
  {
   "cell_type": "code",
   "execution_count": 3,
   "id": "94408188-e1c8-48c8-a2bc-8306e24b4c41",
   "metadata": {},
   "outputs": [],
   "source": [
    "data=pd.read_csv(r'Train.csv')"
   ]
  },
  {
   "cell_type": "code",
   "execution_count": 4,
   "id": "74d3cc8a-cd03-4cfd-bfa6-9cae826142aa",
   "metadata": {},
   "outputs": [
    {
     "data": {
      "text/html": [
       "<div>\n",
       "<style scoped>\n",
       "    .dataframe tbody tr th:only-of-type {\n",
       "        vertical-align: middle;\n",
       "    }\n",
       "\n",
       "    .dataframe tbody tr th {\n",
       "        vertical-align: top;\n",
       "    }\n",
       "\n",
       "    .dataframe thead th {\n",
       "        text-align: right;\n",
       "    }\n",
       "</style>\n",
       "<table border=\"1\" class=\"dataframe\">\n",
       "  <thead>\n",
       "    <tr style=\"text-align: right;\">\n",
       "      <th></th>\n",
       "      <th>serial number</th>\n",
       "      <th>account_info</th>\n",
       "      <th>duration_month</th>\n",
       "      <th>credit_history</th>\n",
       "      <th>purpose</th>\n",
       "      <th>credit_amount</th>\n",
       "      <th>savings_account</th>\n",
       "      <th>employment_st</th>\n",
       "      <th>poi</th>\n",
       "      <th>personal_status</th>\n",
       "      <th>...</th>\n",
       "      <th>resident_since</th>\n",
       "      <th>property_type</th>\n",
       "      <th>age</th>\n",
       "      <th>installment_type</th>\n",
       "      <th>housing_type</th>\n",
       "      <th>credits_no</th>\n",
       "      <th>job_type</th>\n",
       "      <th>liables</th>\n",
       "      <th>telephone</th>\n",
       "      <th>foreigner</th>\n",
       "    </tr>\n",
       "  </thead>\n",
       "  <tbody>\n",
       "    <tr>\n",
       "      <th>0</th>\n",
       "      <td>1</td>\n",
       "      <td>&lt;0</td>\n",
       "      <td>6.0</td>\n",
       "      <td>A34</td>\n",
       "      <td>radio/TV</td>\n",
       "      <td>1169</td>\n",
       "      <td>unknown</td>\n",
       "      <td>A75</td>\n",
       "      <td>4</td>\n",
       "      <td>A93</td>\n",
       "      <td>...</td>\n",
       "      <td>4.0</td>\n",
       "      <td>A121</td>\n",
       "      <td>67.0</td>\n",
       "      <td>A143</td>\n",
       "      <td>A152</td>\n",
       "      <td>2</td>\n",
       "      <td>A173</td>\n",
       "      <td>1</td>\n",
       "      <td>yes</td>\n",
       "      <td>foreigner</td>\n",
       "    </tr>\n",
       "    <tr>\n",
       "      <th>1</th>\n",
       "      <td>2</td>\n",
       "      <td>0-199</td>\n",
       "      <td>48.0</td>\n",
       "      <td>A32</td>\n",
       "      <td>radio/TV</td>\n",
       "      <td>5951</td>\n",
       "      <td>&lt;100</td>\n",
       "      <td>A73</td>\n",
       "      <td>2</td>\n",
       "      <td>A92</td>\n",
       "      <td>...</td>\n",
       "      <td>2.0</td>\n",
       "      <td>A121</td>\n",
       "      <td>22.0</td>\n",
       "      <td>A143</td>\n",
       "      <td>A152</td>\n",
       "      <td>1</td>\n",
       "      <td>A173</td>\n",
       "      <td>1</td>\n",
       "      <td>no</td>\n",
       "      <td>foreigner</td>\n",
       "    </tr>\n",
       "    <tr>\n",
       "      <th>2</th>\n",
       "      <td>3</td>\n",
       "      <td>unknown</td>\n",
       "      <td>12.0</td>\n",
       "      <td>A34</td>\n",
       "      <td>education</td>\n",
       "      <td>2096</td>\n",
       "      <td>&lt;100</td>\n",
       "      <td>A74</td>\n",
       "      <td>2</td>\n",
       "      <td>A93</td>\n",
       "      <td>...</td>\n",
       "      <td>3.0</td>\n",
       "      <td>A121</td>\n",
       "      <td>49.0</td>\n",
       "      <td>A143</td>\n",
       "      <td>A152</td>\n",
       "      <td>1</td>\n",
       "      <td>A172</td>\n",
       "      <td>2</td>\n",
       "      <td>no</td>\n",
       "      <td>foreigner</td>\n",
       "    </tr>\n",
       "    <tr>\n",
       "      <th>3</th>\n",
       "      <td>4</td>\n",
       "      <td>&lt;0</td>\n",
       "      <td>42.0</td>\n",
       "      <td>A32</td>\n",
       "      <td>furniture/equipment</td>\n",
       "      <td>7882</td>\n",
       "      <td>&lt;100</td>\n",
       "      <td>A74</td>\n",
       "      <td>2</td>\n",
       "      <td>A93</td>\n",
       "      <td>...</td>\n",
       "      <td>4.0</td>\n",
       "      <td>A122</td>\n",
       "      <td>45.0</td>\n",
       "      <td>A143</td>\n",
       "      <td>A153</td>\n",
       "      <td>1</td>\n",
       "      <td>A173</td>\n",
       "      <td>2</td>\n",
       "      <td>no</td>\n",
       "      <td>foreigner</td>\n",
       "    </tr>\n",
       "    <tr>\n",
       "      <th>4</th>\n",
       "      <td>5</td>\n",
       "      <td>&lt;0</td>\n",
       "      <td>24.0</td>\n",
       "      <td>A33</td>\n",
       "      <td>new_car</td>\n",
       "      <td>4870</td>\n",
       "      <td>&lt;100</td>\n",
       "      <td>A73</td>\n",
       "      <td>3</td>\n",
       "      <td>A93</td>\n",
       "      <td>...</td>\n",
       "      <td>4.0</td>\n",
       "      <td>A124</td>\n",
       "      <td>53.0</td>\n",
       "      <td>A143</td>\n",
       "      <td>A153</td>\n",
       "      <td>2</td>\n",
       "      <td>A173</td>\n",
       "      <td>2</td>\n",
       "      <td>no</td>\n",
       "      <td>foreigner</td>\n",
       "    </tr>\n",
       "  </tbody>\n",
       "</table>\n",
       "<p>5 rows × 21 columns</p>\n",
       "</div>"
      ],
      "text/plain": [
       "   serial number account_info  duration_month credit_history  \\\n",
       "0              1           <0             6.0            A34   \n",
       "1              2        0-199            48.0            A32   \n",
       "2              3      unknown            12.0            A34   \n",
       "3              4           <0            42.0            A32   \n",
       "4              5           <0            24.0            A33   \n",
       "\n",
       "               purpose  credit_amount savings_account employment_st  poi  \\\n",
       "0             radio/TV           1169         unknown           A75    4   \n",
       "1             radio/TV           5951            <100           A73    2   \n",
       "2            education           2096            <100           A74    2   \n",
       "3  furniture/equipment           7882            <100           A74    2   \n",
       "4              new_car           4870            <100           A73    3   \n",
       "\n",
       "  personal_status  ... resident_since  property_type   age  installment_type  \\\n",
       "0             A93  ...            4.0           A121  67.0              A143   \n",
       "1             A92  ...            2.0           A121  22.0              A143   \n",
       "2             A93  ...            3.0           A121  49.0              A143   \n",
       "3             A93  ...            4.0           A122  45.0              A143   \n",
       "4             A93  ...            4.0           A124  53.0              A143   \n",
       "\n",
       "  housing_type credits_no  job_type liables  telephone  foreigner  \n",
       "0         A152          2      A173       1        yes  foreigner  \n",
       "1         A152          1      A173       1         no  foreigner  \n",
       "2         A152          1      A172       2         no  foreigner  \n",
       "3         A153          1      A173       2         no  foreigner  \n",
       "4         A153          2      A173       2         no  foreigner  \n",
       "\n",
       "[5 rows x 21 columns]"
      ]
     },
     "execution_count": 4,
     "metadata": {},
     "output_type": "execute_result"
    }
   ],
   "source": [
    "data.head()"
   ]
  },
  {
   "cell_type": "markdown",
   "id": "cedbe106-35a5-4c54-9467-d82819fae3c6",
   "metadata": {},
   "source": [
    "## EDA AND PRE-PROCESSING OF DATA"
   ]
  },
  {
   "cell_type": "code",
   "execution_count": 5,
   "id": "f0f18bfb-b718-4bd3-826e-e6db2ee7f3b4",
   "metadata": {},
   "outputs": [
    {
     "data": {
      "text/plain": [
       "(800, 21)"
      ]
     },
     "execution_count": 5,
     "metadata": {},
     "output_type": "execute_result"
    }
   ],
   "source": [
    "data.shape"
   ]
  },
  {
   "cell_type": "code",
   "execution_count": 6,
   "id": "a64ede67-3dcf-4f86-94b5-4f02eea24948",
   "metadata": {},
   "outputs": [
    {
     "data": {
      "text/html": [
       "<div>\n",
       "<style scoped>\n",
       "    .dataframe tbody tr th:only-of-type {\n",
       "        vertical-align: middle;\n",
       "    }\n",
       "\n",
       "    .dataframe tbody tr th {\n",
       "        vertical-align: top;\n",
       "    }\n",
       "\n",
       "    .dataframe thead th {\n",
       "        text-align: right;\n",
       "    }\n",
       "</style>\n",
       "<table border=\"1\" class=\"dataframe\">\n",
       "  <thead>\n",
       "    <tr style=\"text-align: right;\">\n",
       "      <th></th>\n",
       "      <th>serial number</th>\n",
       "      <th>account_info</th>\n",
       "      <th>duration_month</th>\n",
       "      <th>credit_history</th>\n",
       "      <th>purpose</th>\n",
       "      <th>credit_amount</th>\n",
       "      <th>savings_account</th>\n",
       "      <th>employment_st</th>\n",
       "      <th>poi</th>\n",
       "      <th>personal_status</th>\n",
       "      <th>...</th>\n",
       "      <th>resident_since</th>\n",
       "      <th>property_type</th>\n",
       "      <th>age</th>\n",
       "      <th>installment_type</th>\n",
       "      <th>housing_type</th>\n",
       "      <th>credits_no</th>\n",
       "      <th>job_type</th>\n",
       "      <th>liables</th>\n",
       "      <th>telephone</th>\n",
       "      <th>foreigner</th>\n",
       "    </tr>\n",
       "  </thead>\n",
       "  <tbody>\n",
       "    <tr>\n",
       "      <th>count</th>\n",
       "      <td>800.0000</td>\n",
       "      <td>800</td>\n",
       "      <td>772.000000</td>\n",
       "      <td>800</td>\n",
       "      <td>800</td>\n",
       "      <td>800.000000</td>\n",
       "      <td>800</td>\n",
       "      <td>800</td>\n",
       "      <td>800.000000</td>\n",
       "      <td>800</td>\n",
       "      <td>...</td>\n",
       "      <td>787.000000</td>\n",
       "      <td>800</td>\n",
       "      <td>767.000000</td>\n",
       "      <td>800</td>\n",
       "      <td>800</td>\n",
       "      <td>800.000000</td>\n",
       "      <td>800</td>\n",
       "      <td>800.000000</td>\n",
       "      <td>800</td>\n",
       "      <td>800</td>\n",
       "    </tr>\n",
       "    <tr>\n",
       "      <th>unique</th>\n",
       "      <td>NaN</td>\n",
       "      <td>5</td>\n",
       "      <td>NaN</td>\n",
       "      <td>5</td>\n",
       "      <td>10</td>\n",
       "      <td>NaN</td>\n",
       "      <td>5</td>\n",
       "      <td>5</td>\n",
       "      <td>NaN</td>\n",
       "      <td>4</td>\n",
       "      <td>...</td>\n",
       "      <td>NaN</td>\n",
       "      <td>4</td>\n",
       "      <td>NaN</td>\n",
       "      <td>3</td>\n",
       "      <td>3</td>\n",
       "      <td>NaN</td>\n",
       "      <td>4</td>\n",
       "      <td>NaN</td>\n",
       "      <td>3</td>\n",
       "      <td>3</td>\n",
       "    </tr>\n",
       "    <tr>\n",
       "      <th>top</th>\n",
       "      <td>NaN</td>\n",
       "      <td>unknown</td>\n",
       "      <td>NaN</td>\n",
       "      <td>A32</td>\n",
       "      <td>radio/TV</td>\n",
       "      <td>NaN</td>\n",
       "      <td>&lt;100</td>\n",
       "      <td>A73</td>\n",
       "      <td>NaN</td>\n",
       "      <td>A93</td>\n",
       "      <td>...</td>\n",
       "      <td>NaN</td>\n",
       "      <td>A123</td>\n",
       "      <td>NaN</td>\n",
       "      <td>A143</td>\n",
       "      <td>A152</td>\n",
       "      <td>NaN</td>\n",
       "      <td>A173</td>\n",
       "      <td>NaN</td>\n",
       "      <td>no</td>\n",
       "      <td>foreigner</td>\n",
       "    </tr>\n",
       "    <tr>\n",
       "      <th>freq</th>\n",
       "      <td>NaN</td>\n",
       "      <td>296</td>\n",
       "      <td>NaN</td>\n",
       "      <td>424</td>\n",
       "      <td>223</td>\n",
       "      <td>NaN</td>\n",
       "      <td>476</td>\n",
       "      <td>275</td>\n",
       "      <td>NaN</td>\n",
       "      <td>437</td>\n",
       "      <td>...</td>\n",
       "      <td>NaN</td>\n",
       "      <td>266</td>\n",
       "      <td>NaN</td>\n",
       "      <td>653</td>\n",
       "      <td>570</td>\n",
       "      <td>NaN</td>\n",
       "      <td>503</td>\n",
       "      <td>NaN</td>\n",
       "      <td>458</td>\n",
       "      <td>745</td>\n",
       "    </tr>\n",
       "    <tr>\n",
       "      <th>mean</th>\n",
       "      <td>400.5000</td>\n",
       "      <td>NaN</td>\n",
       "      <td>20.645078</td>\n",
       "      <td>NaN</td>\n",
       "      <td>NaN</td>\n",
       "      <td>3190.976250</td>\n",
       "      <td>NaN</td>\n",
       "      <td>NaN</td>\n",
       "      <td>2.966250</td>\n",
       "      <td>NaN</td>\n",
       "      <td>...</td>\n",
       "      <td>2.822109</td>\n",
       "      <td>NaN</td>\n",
       "      <td>35.423729</td>\n",
       "      <td>NaN</td>\n",
       "      <td>NaN</td>\n",
       "      <td>1.396250</td>\n",
       "      <td>NaN</td>\n",
       "      <td>1.147500</td>\n",
       "      <td>NaN</td>\n",
       "      <td>NaN</td>\n",
       "    </tr>\n",
       "    <tr>\n",
       "      <th>std</th>\n",
       "      <td>231.0844</td>\n",
       "      <td>NaN</td>\n",
       "      <td>12.374860</td>\n",
       "      <td>NaN</td>\n",
       "      <td>NaN</td>\n",
       "      <td>2732.671789</td>\n",
       "      <td>NaN</td>\n",
       "      <td>NaN</td>\n",
       "      <td>1.128806</td>\n",
       "      <td>NaN</td>\n",
       "      <td>...</td>\n",
       "      <td>1.105788</td>\n",
       "      <td>NaN</td>\n",
       "      <td>11.714471</td>\n",
       "      <td>NaN</td>\n",
       "      <td>NaN</td>\n",
       "      <td>0.569773</td>\n",
       "      <td>NaN</td>\n",
       "      <td>0.354825</td>\n",
       "      <td>NaN</td>\n",
       "      <td>NaN</td>\n",
       "    </tr>\n",
       "    <tr>\n",
       "      <th>min</th>\n",
       "      <td>1.0000</td>\n",
       "      <td>NaN</td>\n",
       "      <td>4.000000</td>\n",
       "      <td>NaN</td>\n",
       "      <td>NaN</td>\n",
       "      <td>250.000000</td>\n",
       "      <td>NaN</td>\n",
       "      <td>NaN</td>\n",
       "      <td>1.000000</td>\n",
       "      <td>NaN</td>\n",
       "      <td>...</td>\n",
       "      <td>1.000000</td>\n",
       "      <td>NaN</td>\n",
       "      <td>19.000000</td>\n",
       "      <td>NaN</td>\n",
       "      <td>NaN</td>\n",
       "      <td>1.000000</td>\n",
       "      <td>NaN</td>\n",
       "      <td>1.000000</td>\n",
       "      <td>NaN</td>\n",
       "      <td>NaN</td>\n",
       "    </tr>\n",
       "    <tr>\n",
       "      <th>25%</th>\n",
       "      <td>200.7500</td>\n",
       "      <td>NaN</td>\n",
       "      <td>12.000000</td>\n",
       "      <td>NaN</td>\n",
       "      <td>NaN</td>\n",
       "      <td>1342.250000</td>\n",
       "      <td>NaN</td>\n",
       "      <td>NaN</td>\n",
       "      <td>2.000000</td>\n",
       "      <td>NaN</td>\n",
       "      <td>...</td>\n",
       "      <td>2.000000</td>\n",
       "      <td>NaN</td>\n",
       "      <td>26.000000</td>\n",
       "      <td>NaN</td>\n",
       "      <td>NaN</td>\n",
       "      <td>1.000000</td>\n",
       "      <td>NaN</td>\n",
       "      <td>1.000000</td>\n",
       "      <td>NaN</td>\n",
       "      <td>NaN</td>\n",
       "    </tr>\n",
       "    <tr>\n",
       "      <th>50%</th>\n",
       "      <td>400.5000</td>\n",
       "      <td>NaN</td>\n",
       "      <td>18.000000</td>\n",
       "      <td>NaN</td>\n",
       "      <td>NaN</td>\n",
       "      <td>2281.500000</td>\n",
       "      <td>NaN</td>\n",
       "      <td>NaN</td>\n",
       "      <td>3.000000</td>\n",
       "      <td>NaN</td>\n",
       "      <td>...</td>\n",
       "      <td>3.000000</td>\n",
       "      <td>NaN</td>\n",
       "      <td>32.000000</td>\n",
       "      <td>NaN</td>\n",
       "      <td>NaN</td>\n",
       "      <td>1.000000</td>\n",
       "      <td>NaN</td>\n",
       "      <td>1.000000</td>\n",
       "      <td>NaN</td>\n",
       "      <td>NaN</td>\n",
       "    </tr>\n",
       "    <tr>\n",
       "      <th>75%</th>\n",
       "      <td>600.2500</td>\n",
       "      <td>NaN</td>\n",
       "      <td>24.000000</td>\n",
       "      <td>NaN</td>\n",
       "      <td>NaN</td>\n",
       "      <td>3914.250000</td>\n",
       "      <td>NaN</td>\n",
       "      <td>NaN</td>\n",
       "      <td>4.000000</td>\n",
       "      <td>NaN</td>\n",
       "      <td>...</td>\n",
       "      <td>4.000000</td>\n",
       "      <td>NaN</td>\n",
       "      <td>42.000000</td>\n",
       "      <td>NaN</td>\n",
       "      <td>NaN</td>\n",
       "      <td>2.000000</td>\n",
       "      <td>NaN</td>\n",
       "      <td>1.000000</td>\n",
       "      <td>NaN</td>\n",
       "      <td>NaN</td>\n",
       "    </tr>\n",
       "    <tr>\n",
       "      <th>max</th>\n",
       "      <td>800.0000</td>\n",
       "      <td>NaN</td>\n",
       "      <td>72.000000</td>\n",
       "      <td>NaN</td>\n",
       "      <td>NaN</td>\n",
       "      <td>15945.000000</td>\n",
       "      <td>NaN</td>\n",
       "      <td>NaN</td>\n",
       "      <td>4.000000</td>\n",
       "      <td>NaN</td>\n",
       "      <td>...</td>\n",
       "      <td>4.000000</td>\n",
       "      <td>NaN</td>\n",
       "      <td>75.000000</td>\n",
       "      <td>NaN</td>\n",
       "      <td>NaN</td>\n",
       "      <td>4.000000</td>\n",
       "      <td>NaN</td>\n",
       "      <td>2.000000</td>\n",
       "      <td>NaN</td>\n",
       "      <td>NaN</td>\n",
       "    </tr>\n",
       "  </tbody>\n",
       "</table>\n",
       "<p>11 rows × 21 columns</p>\n",
       "</div>"
      ],
      "text/plain": [
       "        serial number account_info  duration_month credit_history   purpose  \\\n",
       "count        800.0000          800      772.000000            800       800   \n",
       "unique            NaN            5             NaN              5        10   \n",
       "top               NaN      unknown             NaN            A32  radio/TV   \n",
       "freq              NaN          296             NaN            424       223   \n",
       "mean         400.5000          NaN       20.645078            NaN       NaN   \n",
       "std          231.0844          NaN       12.374860            NaN       NaN   \n",
       "min            1.0000          NaN        4.000000            NaN       NaN   \n",
       "25%          200.7500          NaN       12.000000            NaN       NaN   \n",
       "50%          400.5000          NaN       18.000000            NaN       NaN   \n",
       "75%          600.2500          NaN       24.000000            NaN       NaN   \n",
       "max          800.0000          NaN       72.000000            NaN       NaN   \n",
       "\n",
       "        credit_amount savings_account employment_st         poi  \\\n",
       "count      800.000000             800           800  800.000000   \n",
       "unique            NaN               5             5         NaN   \n",
       "top               NaN            <100           A73         NaN   \n",
       "freq              NaN             476           275         NaN   \n",
       "mean      3190.976250             NaN           NaN    2.966250   \n",
       "std       2732.671789             NaN           NaN    1.128806   \n",
       "min        250.000000             NaN           NaN    1.000000   \n",
       "25%       1342.250000             NaN           NaN    2.000000   \n",
       "50%       2281.500000             NaN           NaN    3.000000   \n",
       "75%       3914.250000             NaN           NaN    4.000000   \n",
       "max      15945.000000             NaN           NaN    4.000000   \n",
       "\n",
       "       personal_status  ... resident_since  property_type         age  \\\n",
       "count              800  ...     787.000000            800  767.000000   \n",
       "unique               4  ...            NaN              4         NaN   \n",
       "top                A93  ...            NaN           A123         NaN   \n",
       "freq               437  ...            NaN            266         NaN   \n",
       "mean               NaN  ...       2.822109            NaN   35.423729   \n",
       "std                NaN  ...       1.105788            NaN   11.714471   \n",
       "min                NaN  ...       1.000000            NaN   19.000000   \n",
       "25%                NaN  ...       2.000000            NaN   26.000000   \n",
       "50%                NaN  ...       3.000000            NaN   32.000000   \n",
       "75%                NaN  ...       4.000000            NaN   42.000000   \n",
       "max                NaN  ...       4.000000            NaN   75.000000   \n",
       "\n",
       "        installment_type housing_type  credits_no  job_type     liables  \\\n",
       "count                800          800  800.000000       800  800.000000   \n",
       "unique                 3            3         NaN         4         NaN   \n",
       "top                 A143         A152         NaN      A173         NaN   \n",
       "freq                 653          570         NaN       503         NaN   \n",
       "mean                 NaN          NaN    1.396250       NaN    1.147500   \n",
       "std                  NaN          NaN    0.569773       NaN    0.354825   \n",
       "min                  NaN          NaN    1.000000       NaN    1.000000   \n",
       "25%                  NaN          NaN    1.000000       NaN    1.000000   \n",
       "50%                  NaN          NaN    1.000000       NaN    1.000000   \n",
       "75%                  NaN          NaN    2.000000       NaN    1.000000   \n",
       "max                  NaN          NaN    4.000000       NaN    2.000000   \n",
       "\n",
       "        telephone  foreigner  \n",
       "count         800        800  \n",
       "unique          3          3  \n",
       "top            no  foreigner  \n",
       "freq          458        745  \n",
       "mean          NaN        NaN  \n",
       "std           NaN        NaN  \n",
       "min           NaN        NaN  \n",
       "25%           NaN        NaN  \n",
       "50%           NaN        NaN  \n",
       "75%           NaN        NaN  \n",
       "max           NaN        NaN  \n",
       "\n",
       "[11 rows x 21 columns]"
      ]
     },
     "execution_count": 6,
     "metadata": {},
     "output_type": "execute_result"
    }
   ],
   "source": [
    "data.describe(include='all')"
   ]
  },
  {
   "cell_type": "code",
   "execution_count": 7,
   "id": "27bd9fd4-3b48-4d1d-bede-ca4d6f2ab332",
   "metadata": {},
   "outputs": [
    {
     "name": "stdout",
     "output_type": "stream",
     "text": [
      "<class 'pandas.core.frame.DataFrame'>\n",
      "RangeIndex: 800 entries, 0 to 799\n",
      "Data columns (total 21 columns):\n",
      " #   Column            Non-Null Count  Dtype  \n",
      "---  ------            --------------  -----  \n",
      " 0   serial number     800 non-null    int64  \n",
      " 1   account_info      800 non-null    object \n",
      " 2   duration_month    772 non-null    float64\n",
      " 3   credit_history    800 non-null    object \n",
      " 4   purpose           800 non-null    object \n",
      " 5   credit_amount     800 non-null    int64  \n",
      " 6   savings_account   800 non-null    object \n",
      " 7   employment_st     800 non-null    object \n",
      " 8   poi               800 non-null    int64  \n",
      " 9   personal_status   800 non-null    object \n",
      " 10  gurantors         800 non-null    object \n",
      " 11  resident_since    787 non-null    float64\n",
      " 12  property_type     800 non-null    object \n",
      " 13  age               767 non-null    float64\n",
      " 14  installment_type  800 non-null    object \n",
      " 15  housing_type      800 non-null    object \n",
      " 16  credits_no        800 non-null    int64  \n",
      " 17  job_type          800 non-null    object \n",
      " 18  liables           800 non-null    int64  \n",
      " 19  telephone         800 non-null    object \n",
      " 20  foreigner         800 non-null    object \n",
      "dtypes: float64(3), int64(5), object(13)\n",
      "memory usage: 131.4+ KB\n"
     ]
    }
   ],
   "source": [
    "data.info()"
   ]
  },
  {
   "cell_type": "code",
   "execution_count": 8,
   "id": "980d7af4-da0b-4d86-ad24-97e68f1ce333",
   "metadata": {},
   "outputs": [
    {
     "data": {
      "text/plain": [
       "0"
      ]
     },
     "execution_count": 8,
     "metadata": {},
     "output_type": "execute_result"
    }
   ],
   "source": [
    "data.duplicated().sum()"
   ]
  },
  {
   "cell_type": "code",
   "execution_count": 9,
   "id": "17b88708-398b-4157-afea-120274ed8220",
   "metadata": {},
   "outputs": [
    {
     "data": {
      "text/html": [
       "<div>\n",
       "<style scoped>\n",
       "    .dataframe tbody tr th:only-of-type {\n",
       "        vertical-align: middle;\n",
       "    }\n",
       "\n",
       "    .dataframe tbody tr th {\n",
       "        vertical-align: top;\n",
       "    }\n",
       "\n",
       "    .dataframe thead th {\n",
       "        text-align: right;\n",
       "    }\n",
       "</style>\n",
       "<table border=\"1\" class=\"dataframe\">\n",
       "  <thead>\n",
       "    <tr style=\"text-align: right;\">\n",
       "      <th></th>\n",
       "      <th>Column_Name</th>\n",
       "      <th>Num_Unique</th>\n",
       "    </tr>\n",
       "  </thead>\n",
       "  <tbody>\n",
       "    <tr>\n",
       "      <th>18</th>\n",
       "      <td>liables</td>\n",
       "      <td>2</td>\n",
       "    </tr>\n",
       "    <tr>\n",
       "      <th>20</th>\n",
       "      <td>foreigner</td>\n",
       "      <td>3</td>\n",
       "    </tr>\n",
       "    <tr>\n",
       "      <th>15</th>\n",
       "      <td>housing_type</td>\n",
       "      <td>3</td>\n",
       "    </tr>\n",
       "    <tr>\n",
       "      <th>14</th>\n",
       "      <td>installment_type</td>\n",
       "      <td>3</td>\n",
       "    </tr>\n",
       "    <tr>\n",
       "      <th>19</th>\n",
       "      <td>telephone</td>\n",
       "      <td>3</td>\n",
       "    </tr>\n",
       "    <tr>\n",
       "      <th>17</th>\n",
       "      <td>job_type</td>\n",
       "      <td>4</td>\n",
       "    </tr>\n",
       "    <tr>\n",
       "      <th>16</th>\n",
       "      <td>credits_no</td>\n",
       "      <td>4</td>\n",
       "    </tr>\n",
       "    <tr>\n",
       "      <th>12</th>\n",
       "      <td>property_type</td>\n",
       "      <td>4</td>\n",
       "    </tr>\n",
       "    <tr>\n",
       "      <th>11</th>\n",
       "      <td>resident_since</td>\n",
       "      <td>4</td>\n",
       "    </tr>\n",
       "    <tr>\n",
       "      <th>10</th>\n",
       "      <td>gurantors</td>\n",
       "      <td>4</td>\n",
       "    </tr>\n",
       "    <tr>\n",
       "      <th>8</th>\n",
       "      <td>poi</td>\n",
       "      <td>4</td>\n",
       "    </tr>\n",
       "    <tr>\n",
       "      <th>9</th>\n",
       "      <td>personal_status</td>\n",
       "      <td>4</td>\n",
       "    </tr>\n",
       "    <tr>\n",
       "      <th>7</th>\n",
       "      <td>employment_st</td>\n",
       "      <td>5</td>\n",
       "    </tr>\n",
       "    <tr>\n",
       "      <th>6</th>\n",
       "      <td>savings_account</td>\n",
       "      <td>5</td>\n",
       "    </tr>\n",
       "    <tr>\n",
       "      <th>3</th>\n",
       "      <td>credit_history</td>\n",
       "      <td>5</td>\n",
       "    </tr>\n",
       "    <tr>\n",
       "      <th>1</th>\n",
       "      <td>account_info</td>\n",
       "      <td>5</td>\n",
       "    </tr>\n",
       "    <tr>\n",
       "      <th>4</th>\n",
       "      <td>purpose</td>\n",
       "      <td>10</td>\n",
       "    </tr>\n",
       "    <tr>\n",
       "      <th>2</th>\n",
       "      <td>duration_month</td>\n",
       "      <td>31</td>\n",
       "    </tr>\n",
       "    <tr>\n",
       "      <th>13</th>\n",
       "      <td>age</td>\n",
       "      <td>52</td>\n",
       "    </tr>\n",
       "    <tr>\n",
       "      <th>5</th>\n",
       "      <td>credit_amount</td>\n",
       "      <td>753</td>\n",
       "    </tr>\n",
       "    <tr>\n",
       "      <th>0</th>\n",
       "      <td>serial number</td>\n",
       "      <td>800</td>\n",
       "    </tr>\n",
       "  </tbody>\n",
       "</table>\n",
       "</div>"
      ],
      "text/plain": [
       "         Column_Name  Num_Unique\n",
       "18           liables           2\n",
       "20         foreigner           3\n",
       "15      housing_type           3\n",
       "14  installment_type           3\n",
       "19         telephone           3\n",
       "17          job_type           4\n",
       "16        credits_no           4\n",
       "12     property_type           4\n",
       "11    resident_since           4\n",
       "10         gurantors           4\n",
       "8                poi           4\n",
       "9    personal_status           4\n",
       "7      employment_st           5\n",
       "6    savings_account           5\n",
       "3     credit_history           5\n",
       "1       account_info           5\n",
       "4            purpose          10\n",
       "2     duration_month          31\n",
       "13               age          52\n",
       "5      credit_amount         753\n",
       "0      serial number         800"
      ]
     },
     "execution_count": 9,
     "metadata": {},
     "output_type": "execute_result"
    }
   ],
   "source": [
    "unique_counts = pd.DataFrame.from_records([(col, data[col].nunique()) for col in data.columns],\n",
    "                                columns=['Column_Name','Num_Unique']).sort_values(by=['Num_Unique'])\n",
    "unique_counts"
   ]
  },
  {
   "cell_type": "code",
   "execution_count": 10,
   "id": "e17684f7-c797-40e3-9800-17ad74c9d378",
   "metadata": {},
   "outputs": [],
   "source": [
    "data.drop([\"serial number\"],axis=1,inplace=True)"
   ]
  },
  {
   "cell_type": "code",
   "execution_count": 11,
   "id": "84d9d5da-eb30-427b-9b66-a5fd8533a398",
   "metadata": {},
   "outputs": [
    {
     "data": {
      "text/plain": [
       "account_info         0\n",
       "duration_month      28\n",
       "credit_history       0\n",
       "purpose              0\n",
       "credit_amount        0\n",
       "savings_account      0\n",
       "employment_st        0\n",
       "poi                  0\n",
       "personal_status      0\n",
       "gurantors            0\n",
       "resident_since      13\n",
       "property_type        0\n",
       "age                 33\n",
       "installment_type     0\n",
       "housing_type         0\n",
       "credits_no           0\n",
       "job_type             0\n",
       "liables              0\n",
       "telephone            0\n",
       "foreigner            0\n",
       "dtype: int64"
      ]
     },
     "execution_count": 11,
     "metadata": {},
     "output_type": "execute_result"
    }
   ],
   "source": [
    "data.isnull().sum()"
   ]
  },
  {
   "cell_type": "code",
   "execution_count": 12,
   "id": "24114019-7612-406c-bfb6-e6f7c94f6d4a",
   "metadata": {},
   "outputs": [
    {
     "data": {
      "text/plain": [
       "account_info        0.000\n",
       "duration_month      3.500\n",
       "credit_history      0.000\n",
       "purpose             0.000\n",
       "credit_amount       0.000\n",
       "savings_account     0.000\n",
       "employment_st       0.000\n",
       "poi                 0.000\n",
       "personal_status     0.000\n",
       "gurantors           0.000\n",
       "resident_since      1.625\n",
       "property_type       0.000\n",
       "age                 4.125\n",
       "installment_type    0.000\n",
       "housing_type        0.000\n",
       "credits_no          0.000\n",
       "job_type            0.000\n",
       "liables             0.000\n",
       "telephone           0.000\n",
       "foreigner           0.000\n",
       "dtype: float64"
      ]
     },
     "execution_count": 12,
     "metadata": {},
     "output_type": "execute_result"
    }
   ],
   "source": [
    "data.isnull().sum()/len(data)*100"
   ]
  },
  {
   "cell_type": "code",
   "execution_count": 13,
   "id": "e6515bf6-04bf-4b44-b982-b9afa2978a51",
   "metadata": {},
   "outputs": [
    {
     "data": {
      "image/png": "[encoded data removed]",
      "text/plain": [
       "<Figure size 2500x1000 with 2 Axes>"
      ]
     },
     "metadata": {},
     "output_type": "display_data"
    }
   ],
   "source": [
    "missing =msno.matrix(data)\n",
    "missing.set_title(\"Missing Data for application Records dataset\",fontsize=20);"
   ]
  },
  {
   "cell_type": "code",
   "execution_count": 14,
   "id": "14d30769-fcb0-42db-990f-9a373054d46a",
   "metadata": {},
   "outputs": [
    {
     "name": "stdout",
     "output_type": "stream",
     "text": [
      "{'account_info': array(['<0', '0-199', 'unknown', '?', '>=200'], dtype=object)}\n",
      "{'duration_month': array([ 6., 48., 12., 42., 24., 36., 30., 15.,  9., 10.,  7., 60., 18.,\n",
      "       45., 11., 27.,  8., 54., nan, 14., 33., 16.,  4., 47., 13., 22.,\n",
      "       39., 28.,  5., 26., 72., 40.])}\n",
      "{'credit_history': array(['A34', 'A32', 'A33', 'A30', 'A31'], dtype=object)}\n",
      "{'purpose': array(['radio/TV', 'education', 'furniture/equipment', 'new_car',\n",
      "       'old_car', 'business', 'domestic_appliances', 'repairing', 'other',\n",
      "       'upskilling'], dtype=object)}\n",
      "{'credit_amount': array([ 1169,  5951,  2096,  7882,  4870,  9055,  2835,  6948,  3059,\n",
      "        5234,  1295,  4308,  1567,  1199,  1403,  1282,  2424,  8072,\n",
      "       12579,  3430,  2134,  2647,  2241,  1804,  2069,  1374,   426,\n",
      "         409,  2415,  6836,  1913,  4020,  5866,  1264,  1474,  4746,\n",
      "        6110,  2100,  1225,   458,  2333,  1158,  6204,  6187,  6143,\n",
      "        1393,  2299,  1352,  7228,  2073,  5965,  1262,  3378,  2225,\n",
      "         783,  6468,  9566,  1961,  6229,  1391,  1537,  1953, 14421,\n",
      "        3181,  5190,  2171,  1007,  1819,  2394,  8133,   730,  1164,\n",
      "        5954,  1977,  1526,  3965,  4771,  9436,  3832,  5943,  1213,\n",
      "        1568,  1755,  2315,  1412, 12612,  2249,  1108,   618,  1409,\n",
      "         797,  3617,  1318, 15945,  2012,  2622,  2337,  7057,  1469,\n",
      "        2323,   932,  1919,  2445, 11938,  6458,  6078,  7721,  1410,\n",
      "        1449,   392,  6260,  7855,  1680,  3578,  7174,  2132,  4281,\n",
      "        2366,  1835,  3868,  1768,   781,  1924,  2121,   701,   639,\n",
      "        1860,  3499,  8487,  6887,  2708,  1984, 10144,  1240,  8613,\n",
      "         766,  2728,  1881,   709,  4795,  3416,  2462,  2288,  3566,\n",
      "         860,   682,  5371,  1582,  1346,  5848,  7758,  6967,  1288,\n",
      "         339,  3512,  1898,  2872,  1055,  7308,   909,  2978,  1131,\n",
      "        1577,  3972,  1935,   950,   763,  2064,  1414,  3414,  7485,\n",
      "        2577,   338,  1963,   571,  9572,  4455,  1647,  3777,   884,\n",
      "        1360,  5129,  1175,   674,  3244,  4591,  3844,  3915,  2108,\n",
      "        3031,  1501,  1382,   951,  2760,  4297,   936,  1168,  5117,\n",
      "         902,  1495, 10623,  1424,  6568,  1413,  3074,  3835,  5293,\n",
      "        1908,  3342,  3104,  3913,  3021,  1364,   625,  1200,   707,\n",
      "        4657,  2613, 10961,  7865,  1478,  3149,  4210,  2507,  2141,\n",
      "         866,  1544,  1823, 14555,  2767,  1291,  2522,   915,  1595,\n",
      "        4605,  1185,  3447,  1258,   717,  1204,  1925,   433,   666,\n",
      "        2251,  2150,  4151,  2030,  7418,  2684,  2149,  3812,  1154,\n",
      "        1657,  1603,  5302,  2748,  1231,   802,  6304,  1533,  8978,\n",
      "         999,  2662,  1402, 12169,  3060, 11998,  2697,  2404,  4611,\n",
      "        1901,  3368,  1574,  1445,  1520,  3878, 10722,  4788,  7582,\n",
      "        1092,  1024,  1076,  9398,  6419,  4796,  7629,  9960,  4675,\n",
      "        1287,  2515,  2745,   672,  3804,  1344,  1038, 10127,  1543,\n",
      "        4811,   727,  1237,   276,  5381,  5511,  3749,   685,  1494,\n",
      "        2746,   708,  4351,  3643,  4249,  1938,  2910,  2659,  1028,\n",
      "        3398,  5801,  1525,  4473,  1068,  6615,  1864,  7408, 11590,\n",
      "        4110,  3384,  2101,  1275,  4169,  1521,  5743,  3599,  3213,\n",
      "        4439,  3949,  1459,   882,  3758,  1743,  1136,  1236,   959,\n",
      "        3229,  6199,  1246,  2331,  4463,   776,  2406,  1239,  3399,\n",
      "        2247,  1766,  2473,  1542,  3850,  3650,  3446,  3001,  3079,\n",
      "        6070,  2146, 13756, 14782,  7685,  2320,   846, 14318,   362,\n",
      "        2212, 12976,  1283,  1330,  4272,  2238,  1126,  7374,  2326,\n",
      "        1820,   983,  3249,  1957, 11760,  2578,  2348,  1223,  1516,\n",
      "        1473,  1887,  8648,  2899,  2039,  2197,  1053,  3235,   939,\n",
      "        1967,  7253,  2292,  1597,  1381,  5842,  2579,  8471,  2782,\n",
      "        1042,  3186,  2028,   958,  1591,  2762,  2779,  2743,  1149,\n",
      "        1313,  1190,  3448, 11328,  1872,  2058,  2136,  1484,   660,\n",
      "        3394,   609,  1884,  1620,  2629,   719,  5096,  1244,  1842,\n",
      "        2576,  1512, 11054,   518,  2759,  2670,  4817,  2679,  3905,\n",
      "        3386,   343,  4594,  3620,  1721,  3017,   754,  1950,  2924,\n",
      "        1659,  7238,  2764,  4679,  3092,   448,   654,  1238,  1245,\n",
      "        3114,  2569,  5152,  1037,  3573,  1201,  3622,   960,  1163,\n",
      "        1209,  3077,  3757,  1418,  3518,  1934,  8318,   368,  2122,\n",
      "        2996,  9034,  1585,  1301,  1323,  3123,  5493,  1216,  1207,\n",
      "        1309,  2360,  6850,  8588,   759,  4686,  2687,   585,  2255,\n",
      "        1361,  7127,  1203,   700,  5507,  3190,  7119,  3488,  1113,\n",
      "        7966,  1532,  1503,  2302,   662,  2273,  2631,  1311,  3105,\n",
      "        2319,  3612,  7763,  3049,  1534,  2032,  6350,  2864,  1255,\n",
      "        1333,  2022,  1552,   626,  8858,   996,  1750,  6999,  1995,\n",
      "        1331,  2278,  5003,  3552,  1928,  2964,  1546,   683, 12389,\n",
      "        4712,  1553,  1372,  3979,  6758,  3234,  5433,   806,  1082,\n",
      "        2788,  2930,  1927,  2820,   937,  1056,  3124,  1388,  2384,\n",
      "        2133,  2799,  1289,  1217,  2246,   385,  1965,  1572,  2718,\n",
      "        1358,   931,  1442,  4241,  2775,  3863,  2329,   918,  1837,\n",
      "        3349,  2828,  4526,  2671,  2051,  1300,   741,  3357,  3632,\n",
      "        1808, 12204,  9157,  3676,  3441,   640,  3652,  1530,  3914,\n",
      "        1858,  2600,  1979,  2116,  1437,  4042,  3660,  1444,  1980,\n",
      "        1355,  1376, 15653,  1493,  4370,   750,  1308,  4623,  1851,\n",
      "        1880,  7980,  4583,  1386,   947,   684,  7476,  1922,  2303,\n",
      "        8086,  2346,  3973,   888, 10222,  4221,  6361,  1297,   900,\n",
      "        1050,  1047,  6314,  3496,  3609,  4843,  4139,  5742, 10366,\n",
      "        2080,  2580,  4530,  5150,  5595,  1453,  1538,  2279,  5103,\n",
      "        9857,  6527,  1347,  2862,  2753,  3651,   975,  2896,  4716,\n",
      "        2284,  1103,   926,  1800,  1905,  1123,  6331,  1377,  2503,\n",
      "        2528,  5324,  6560,  2969,  1206,  2118,   629,  1198,  2476,\n",
      "        1138, 14027,  7596,  1505,  3148,  6148,  1337,  1228,   790,\n",
      "        2570,   250,  1316,  1882,  6416,  6403,  1987,   760,  2603,\n",
      "        3380,  3990, 11560,  4380,  6761,  4280,  2325,  1048,  3160,\n",
      "        2483, 14179,  1797,  2511,  1274,  5248,  3029,   428,   976,\n",
      "         841,  5771,  1555,  1285,  1299,  1271,   691,  5045,  2124,\n",
      "        2214, 12680,  2463,  1155,  3108,  2901,  1655,  2812,  8065,\n",
      "        3275,  2223,  1480,  1371,  3535,  3509,  5711,  3872,  4933,\n",
      "        1940,   836,  1941,  2675,  2751,  6224,  5998,  1188,  6313,\n",
      "        1221,  2892,  3062,  2301,  7511,  1549], dtype=int64)}\n",
      "{'savings_account': array(['unknown', '<100', '500-999', '>=1000', '100-499'], dtype=object)}\n",
      "{'employment_st': array(['A75', 'A73', 'A74', 'A71', 'A72'], dtype=object)}\n",
      "{'poi': array([4, 2, 3, 1], dtype=int64)}\n",
      "{'personal_status': array(['A93', 'A92', 'A91', 'A94'], dtype=object)}\n",
      "{'gurantors': array(['A101', 'A103', '?', 'A102'], dtype=object)}\n",
      "{'resident_since': array([ 4.,  2.,  3., nan,  1.])}\n",
      "{'property_type': array(['A121', 'A122', 'A124', 'A123'], dtype=object)}\n",
      "{'age': array([67., 22., 49., 45., 53., nan, 61., 28., 25., 24., 60., 32., 44.,\n",
      "       31., 48., 26., 36., 39., 42., 34., 63., 27., 30., 57., 33., 37.,\n",
      "       58., 23., 29., 52., 50., 46., 51., 41., 40., 66., 47., 56., 54.,\n",
      "       20., 21., 38., 70., 65., 74., 68., 43., 55., 64., 75., 19., 62.,\n",
      "       59.])}\n",
      "{'installment_type': array(['A143', 'A141', 'A142'], dtype=object)}\n",
      "{'housing_type': array(['A152', 'A153', 'A151'], dtype=object)}\n",
      "{'credits_no': array([2, 1, 3, 4], dtype=int64)}\n",
      "{'job_type': array(['A173', 'A172', 'A174', 'A171'], dtype=object)}\n",
      "{'liables': array([1, 2], dtype=int64)}\n",
      "{'telephone': array(['yes', 'no', '?'], dtype=object)}\n",
      "{'foreigner': array(['foreigner', '?', 'resident'], dtype=object)}\n"
     ]
    }
   ],
   "source": [
    "for i in data.columns:   # it is used to check unique values of columns\n",
    "    print({i:data[i].unique()})"
   ]
  },
  {
   "cell_type": "code",
   "execution_count": 15,
   "id": "c85c93ea-8830-4202-a16d-81bb18f5e89f",
   "metadata": {},
   "outputs": [],
   "source": [
    "data.replace('?',np.nan,inplace=True)"
   ]
  },
  {
   "cell_type": "code",
   "execution_count": 16,
   "id": "bbdf0ee3-bf02-40eb-835d-bf3e65acb858",
   "metadata": {},
   "outputs": [
    {
     "data": {
      "text/plain": [
       "account_info        14\n",
       "duration_month      28\n",
       "credit_history       0\n",
       "purpose              0\n",
       "credit_amount        0\n",
       "savings_account      0\n",
       "employment_st        0\n",
       "poi                  0\n",
       "personal_status      0\n",
       "gurantors           24\n",
       "resident_since      13\n",
       "property_type        0\n",
       "age                 33\n",
       "installment_type     0\n",
       "housing_type         0\n",
       "credits_no           0\n",
       "job_type             0\n",
       "liables              0\n",
       "telephone           23\n",
       "foreigner           28\n",
       "dtype: int64"
      ]
     },
     "execution_count": 16,
     "metadata": {},
     "output_type": "execute_result"
    }
   ],
   "source": [
    "data.isnull().sum()"
   ]
  },
  {
   "cell_type": "code",
   "execution_count": 17,
   "id": "b9bb69be-b4a0-476d-9735-135db2142fed",
   "metadata": {},
   "outputs": [],
   "source": [
    "data.replace('unknown',np.nan,inplace=True)"
   ]
  },
  {
   "cell_type": "code",
   "execution_count": 18,
   "id": "51d8bb15-34b1-4299-9cd8-f85a04b2b139",
   "metadata": {},
   "outputs": [
    {
     "data": {
      "text/plain": [
       "account_info        310\n",
       "duration_month       28\n",
       "credit_history        0\n",
       "purpose               0\n",
       "credit_amount         0\n",
       "savings_account     142\n",
       "employment_st         0\n",
       "poi                   0\n",
       "personal_status       0\n",
       "gurantors            24\n",
       "resident_since       13\n",
       "property_type         0\n",
       "age                  33\n",
       "installment_type      0\n",
       "housing_type          0\n",
       "credits_no            0\n",
       "job_type              0\n",
       "liables               0\n",
       "telephone            23\n",
       "foreigner            28\n",
       "dtype: int64"
      ]
     },
     "execution_count": 18,
     "metadata": {},
     "output_type": "execute_result"
    }
   ],
   "source": [
    "data.isnull().sum()"
   ]
  },
  {
   "cell_type": "code",
   "execution_count": 19,
   "id": "ef851ac8-57c6-4f20-a9a2-749647625730",
   "metadata": {},
   "outputs": [
    {
     "data": {
      "text/plain": [
       "account_info        38.750\n",
       "duration_month       3.500\n",
       "credit_history       0.000\n",
       "purpose              0.000\n",
       "credit_amount        0.000\n",
       "savings_account     17.750\n",
       "employment_st        0.000\n",
       "poi                  0.000\n",
       "personal_status      0.000\n",
       "gurantors            3.000\n",
       "resident_since       1.625\n",
       "property_type        0.000\n",
       "age                  4.125\n",
       "installment_type     0.000\n",
       "housing_type         0.000\n",
       "credits_no           0.000\n",
       "job_type             0.000\n",
       "liables              0.000\n",
       "telephone            2.875\n",
       "foreigner            3.500\n",
       "dtype: float64"
      ]
     },
     "execution_count": 19,
     "metadata": {},
     "output_type": "execute_result"
    }
   ],
   "source": [
    "data.isnull().sum()/len(data)*100"
   ]
  },
  {
   "cell_type": "code",
   "execution_count": 20,
   "id": "601b804c-fa53-4c37-a944-0f717d7b74f1",
   "metadata": {},
   "outputs": [],
   "source": [
    "data.drop([\"account_info\"],axis=1,inplace=True)\n",
    "data.drop([\"savings_account\"],axis=1,inplace=True)\n"
   ]
  },
  {
   "cell_type": "code",
   "execution_count": 21,
   "id": "85f2fb8c-8dcd-4724-b24c-bfac09f3c2aa",
   "metadata": {},
   "outputs": [
    {
     "data": {
      "text/plain": [
       "duration_month      3.500\n",
       "credit_history      0.000\n",
       "purpose             0.000\n",
       "credit_amount       0.000\n",
       "employment_st       0.000\n",
       "poi                 0.000\n",
       "personal_status     0.000\n",
       "gurantors           3.000\n",
       "resident_since      1.625\n",
       "property_type       0.000\n",
       "age                 4.125\n",
       "installment_type    0.000\n",
       "housing_type        0.000\n",
       "credits_no          0.000\n",
       "job_type            0.000\n",
       "liables             0.000\n",
       "telephone           2.875\n",
       "foreigner           3.500\n",
       "dtype: float64"
      ]
     },
     "execution_count": 21,
     "metadata": {},
     "output_type": "execute_result"
    }
   ],
   "source": [
    "data.isnull().sum()/len(data)*100\n"
   ]
  },
  {
   "cell_type": "code",
   "execution_count": 22,
   "id": "548cc9ce-c198-45d3-8953-1d531f8886fc",
   "metadata": {
    "scrolled": true
   },
   "outputs": [],
   "source": [
    "for value in['gurantors','telephone','foreigner']:\n",
    "    data[value].fillna(data[value].mode()[0],inplace=True)"
   ]
  },
  {
   "cell_type": "code",
   "execution_count": 23,
   "id": "cb141dd4-1650-4c39-a61f-a81b3415d7e2",
   "metadata": {},
   "outputs": [],
   "source": [
    "for value in['duration_month','resident_since','age']:\n",
    "    data[value].fillna(data[value].mean(),inplace=True)"
   ]
  },
  {
   "cell_type": "code",
   "execution_count": 24,
   "id": "28ac7df8-a3ea-4c08-9e28-f226c5de3c12",
   "metadata": {},
   "outputs": [
    {
     "data": {
      "text/plain": [
       "duration_month      0.0\n",
       "credit_history      0.0\n",
       "purpose             0.0\n",
       "credit_amount       0.0\n",
       "employment_st       0.0\n",
       "poi                 0.0\n",
       "personal_status     0.0\n",
       "gurantors           0.0\n",
       "resident_since      0.0\n",
       "property_type       0.0\n",
       "age                 0.0\n",
       "installment_type    0.0\n",
       "housing_type        0.0\n",
       "credits_no          0.0\n",
       "job_type            0.0\n",
       "liables             0.0\n",
       "telephone           0.0\n",
       "foreigner           0.0\n",
       "dtype: float64"
      ]
     },
     "execution_count": 24,
     "metadata": {},
     "output_type": "execute_result"
    }
   ],
   "source": [
    "data.isnull().sum()/len(data)*100\n"
   ]
  },
  {
   "cell_type": "code",
   "execution_count": 25,
   "id": "893d992e-4649-4362-87da-1d762f981747",
   "metadata": {},
   "outputs": [
    {
     "data": {
      "text/html": [
       "<div>\n",
       "<style scoped>\n",
       "    .dataframe tbody tr th:only-of-type {\n",
       "        vertical-align: middle;\n",
       "    }\n",
       "\n",
       "    .dataframe tbody tr th {\n",
       "        vertical-align: top;\n",
       "    }\n",
       "\n",
       "    .dataframe thead th {\n",
       "        text-align: right;\n",
       "    }\n",
       "</style>\n",
       "<table border=\"1\" class=\"dataframe\">\n",
       "  <thead>\n",
       "    <tr style=\"text-align: right;\">\n",
       "      <th></th>\n",
       "      <th>duration_month</th>\n",
       "      <th>credit_history</th>\n",
       "      <th>purpose</th>\n",
       "      <th>credit_amount</th>\n",
       "      <th>employment_st</th>\n",
       "      <th>poi</th>\n",
       "      <th>personal_status</th>\n",
       "      <th>gurantors</th>\n",
       "      <th>resident_since</th>\n",
       "      <th>property_type</th>\n",
       "      <th>age</th>\n",
       "      <th>installment_type</th>\n",
       "      <th>housing_type</th>\n",
       "      <th>credits_no</th>\n",
       "      <th>job_type</th>\n",
       "      <th>liables</th>\n",
       "      <th>telephone</th>\n",
       "      <th>foreigner</th>\n",
       "    </tr>\n",
       "  </thead>\n",
       "  <tbody>\n",
       "    <tr>\n",
       "      <th>0</th>\n",
       "      <td>6.0</td>\n",
       "      <td>A34</td>\n",
       "      <td>radio/TV</td>\n",
       "      <td>1169</td>\n",
       "      <td>A75</td>\n",
       "      <td>4</td>\n",
       "      <td>A93</td>\n",
       "      <td>A101</td>\n",
       "      <td>4.0</td>\n",
       "      <td>A121</td>\n",
       "      <td>67.0</td>\n",
       "      <td>A143</td>\n",
       "      <td>A152</td>\n",
       "      <td>2</td>\n",
       "      <td>A173</td>\n",
       "      <td>1</td>\n",
       "      <td>yes</td>\n",
       "      <td>foreigner</td>\n",
       "    </tr>\n",
       "    <tr>\n",
       "      <th>1</th>\n",
       "      <td>48.0</td>\n",
       "      <td>A32</td>\n",
       "      <td>radio/TV</td>\n",
       "      <td>5951</td>\n",
       "      <td>A73</td>\n",
       "      <td>2</td>\n",
       "      <td>A92</td>\n",
       "      <td>A101</td>\n",
       "      <td>2.0</td>\n",
       "      <td>A121</td>\n",
       "      <td>22.0</td>\n",
       "      <td>A143</td>\n",
       "      <td>A152</td>\n",
       "      <td>1</td>\n",
       "      <td>A173</td>\n",
       "      <td>1</td>\n",
       "      <td>no</td>\n",
       "      <td>foreigner</td>\n",
       "    </tr>\n",
       "    <tr>\n",
       "      <th>2</th>\n",
       "      <td>12.0</td>\n",
       "      <td>A34</td>\n",
       "      <td>education</td>\n",
       "      <td>2096</td>\n",
       "      <td>A74</td>\n",
       "      <td>2</td>\n",
       "      <td>A93</td>\n",
       "      <td>A101</td>\n",
       "      <td>3.0</td>\n",
       "      <td>A121</td>\n",
       "      <td>49.0</td>\n",
       "      <td>A143</td>\n",
       "      <td>A152</td>\n",
       "      <td>1</td>\n",
       "      <td>A172</td>\n",
       "      <td>2</td>\n",
       "      <td>no</td>\n",
       "      <td>foreigner</td>\n",
       "    </tr>\n",
       "    <tr>\n",
       "      <th>3</th>\n",
       "      <td>42.0</td>\n",
       "      <td>A32</td>\n",
       "      <td>furniture/equipment</td>\n",
       "      <td>7882</td>\n",
       "      <td>A74</td>\n",
       "      <td>2</td>\n",
       "      <td>A93</td>\n",
       "      <td>A103</td>\n",
       "      <td>4.0</td>\n",
       "      <td>A122</td>\n",
       "      <td>45.0</td>\n",
       "      <td>A143</td>\n",
       "      <td>A153</td>\n",
       "      <td>1</td>\n",
       "      <td>A173</td>\n",
       "      <td>2</td>\n",
       "      <td>no</td>\n",
       "      <td>foreigner</td>\n",
       "    </tr>\n",
       "    <tr>\n",
       "      <th>4</th>\n",
       "      <td>24.0</td>\n",
       "      <td>A33</td>\n",
       "      <td>new_car</td>\n",
       "      <td>4870</td>\n",
       "      <td>A73</td>\n",
       "      <td>3</td>\n",
       "      <td>A93</td>\n",
       "      <td>A101</td>\n",
       "      <td>4.0</td>\n",
       "      <td>A124</td>\n",
       "      <td>53.0</td>\n",
       "      <td>A143</td>\n",
       "      <td>A153</td>\n",
       "      <td>2</td>\n",
       "      <td>A173</td>\n",
       "      <td>2</td>\n",
       "      <td>no</td>\n",
       "      <td>foreigner</td>\n",
       "    </tr>\n",
       "  </tbody>\n",
       "</table>\n",
       "</div>"
      ],
      "text/plain": [
       "   duration_month credit_history              purpose  credit_amount  \\\n",
       "0             6.0            A34             radio/TV           1169   \n",
       "1            48.0            A32             radio/TV           5951   \n",
       "2            12.0            A34            education           2096   \n",
       "3            42.0            A32  furniture/equipment           7882   \n",
       "4            24.0            A33              new_car           4870   \n",
       "\n",
       "  employment_st  poi personal_status gurantors  resident_since property_type  \\\n",
       "0           A75    4             A93      A101             4.0          A121   \n",
       "1           A73    2             A92      A101             2.0          A121   \n",
       "2           A74    2             A93      A101             3.0          A121   \n",
       "3           A74    2             A93      A103             4.0          A122   \n",
       "4           A73    3             A93      A101             4.0          A124   \n",
       "\n",
       "    age installment_type housing_type  credits_no job_type  liables telephone  \\\n",
       "0  67.0             A143         A152           2     A173        1       yes   \n",
       "1  22.0             A143         A152           1     A173        1        no   \n",
       "2  49.0             A143         A152           1     A172        2        no   \n",
       "3  45.0             A143         A153           1     A173        2        no   \n",
       "4  53.0             A143         A153           2     A173        2        no   \n",
       "\n",
       "   foreigner  \n",
       "0  foreigner  \n",
       "1  foreigner  \n",
       "2  foreigner  \n",
       "3  foreigner  \n",
       "4  foreigner  "
      ]
     },
     "execution_count": 25,
     "metadata": {},
     "output_type": "execute_result"
    }
   ],
   "source": [
    "data.head()"
   ]
  },
  {
   "cell_type": "code",
   "execution_count": 26,
   "id": "a6b1dfb4-799b-4301-aeca-3cc8d62ec928",
   "metadata": {},
   "outputs": [
    {
     "name": "stdout",
     "output_type": "stream",
     "text": [
      "credit_history \n",
      "\n",
      "credit_history\n",
      "A32    424\n",
      "A34    235\n",
      "A33     71\n",
      "A31     37\n",
      "A30     33\n",
      "Name: count, dtype: int64\n",
      "-----------------------------------------------------\n",
      "purpose \n",
      "\n",
      "purpose\n",
      "radio/TV               223\n",
      "new_car                184\n",
      "furniture/equipment    144\n",
      "old_car                 81\n",
      "business                77\n",
      "education               45\n",
      "repairing               19\n",
      "other                   10\n",
      "domestic_appliances      9\n",
      "upskilling               8\n",
      "Name: count, dtype: int64\n",
      "-----------------------------------------------------\n",
      "employment_st \n",
      "\n",
      "employment_st\n",
      "A73    275\n",
      "A75    203\n",
      "A74    141\n",
      "A72    133\n",
      "A71     48\n",
      "Name: count, dtype: int64\n",
      "-----------------------------------------------------\n",
      "personal_status \n",
      "\n",
      "personal_status\n",
      "A93    437\n",
      "A92    255\n",
      "A94     70\n",
      "A91     38\n",
      "Name: count, dtype: int64\n",
      "-----------------------------------------------------\n",
      "gurantors \n",
      "\n",
      "gurantors\n",
      "A101    728\n",
      "A103     42\n",
      "A102     30\n",
      "Name: count, dtype: int64\n",
      "-----------------------------------------------------\n",
      "property_type \n",
      "\n",
      "property_type\n",
      "A123    266\n",
      "A121    229\n",
      "A122    177\n",
      "A124    128\n",
      "Name: count, dtype: int64\n",
      "-----------------------------------------------------\n",
      "installment_type \n",
      "\n",
      "installment_type\n",
      "A143    653\n",
      "A141    112\n",
      "A142     35\n",
      "Name: count, dtype: int64\n",
      "-----------------------------------------------------\n",
      "housing_type \n",
      "\n",
      "housing_type\n",
      "A152    570\n",
      "A151    140\n",
      "A153     90\n",
      "Name: count, dtype: int64\n",
      "-----------------------------------------------------\n",
      "job_type \n",
      "\n",
      "job_type\n",
      "A173    503\n",
      "A172    161\n",
      "A174    119\n",
      "A171     17\n",
      "Name: count, dtype: int64\n",
      "-----------------------------------------------------\n",
      "telephone \n",
      "\n",
      "telephone\n",
      "no     481\n",
      "yes    319\n",
      "Name: count, dtype: int64\n",
      "-----------------------------------------------------\n",
      "foreigner \n",
      "\n",
      "foreigner\n",
      "foreigner    773\n",
      "resident      27\n",
      "Name: count, dtype: int64\n",
      "-----------------------------------------------------\n"
     ]
    }
   ],
   "source": [
    "# Checking unique values from categorical Columns\n",
    "\n",
    "for i in data.columns[(data.dtypes == \"object\").values].tolist():\n",
    "    print(i, '\\n')\n",
    "    print(data[i].value_counts())\n",
    "    print('-----------------------------------------------------')"
   ]
  },
  {
   "cell_type": "code",
   "execution_count": 27,
   "id": "3fd49b46-9c36-4524-89d6-89c256c96b03",
   "metadata": {},
   "outputs": [
    {
     "data": {
      "text/plain": [
       "(800, 18)"
      ]
     },
     "execution_count": 27,
     "metadata": {},
     "output_type": "execute_result"
    }
   ],
   "source": [
    "data.shape"
   ]
  },
  {
   "cell_type": "markdown",
   "id": "83e0a6d4-8547-431a-aeda-d97bc1a3fc2f",
   "metadata": {},
   "source": [
    "## VISUALIZING THE DATASET"
   ]
  },
  {
   "cell_type": "code",
   "execution_count": 28,
   "id": "c9a1311d-aeba-4294-9ce3-da49d3dcfbb7",
   "metadata": {},
   "outputs": [
    {
     "data": {
      "text/plain": [
       "<Axes: >"
      ]
     },
     "execution_count": 28,
     "metadata": {},
     "output_type": "execute_result"
    },
    {
     "data": {
      "image/png": "[encoded data removed]",
      "text/plain": [
       "<Figure size 640x480 with 1 Axes>"
      ]
     },
     "metadata": {},
     "output_type": "display_data"
    }
   ],
   "source": [
    "data.boxplot()"
   ]
  },
  {
   "cell_type": "code",
   "execution_count": 29,
   "id": "f39572d7-d4a8-448b-8d18-104475ad52c9",
   "metadata": {},
   "outputs": [
    {
     "data": {
      "image/png": "[encoded data removed]",
      "text/plain": [
       "<Figure size 1400x500 with 2 Axes>"
      ]
     },
     "metadata": {},
     "output_type": "display_data"
    }
   ],
   "source": [
    "fig, axes = plt.subplots(1,2)\n",
    "\n",
    "g1=sns.countplot(y=data.purpose,linewidth=1.2, ax=axes[0])\n",
    "g1.set_title(\"Applicant Distribution by \\n purpose\")\n",
    "g1.set_xlabel(\"Count\")\n",
    "\n",
    "g2=sns.countplot(y=data.property_type,linewidth=1.2, ax=axes[1])\n",
    "g2.set_title(\"Applicant Distribution by \\n property_type\")\n",
    "g2.set_xlabel(\"Count\")\n",
    "\n",
    "fig.set_size_inches(14,5)\n",
    "\n",
    "plt.tight_layout()\n",
    "\n",
    "\n",
    "plt.show()\n",
    "\n"
   ]
  },
  {
   "cell_type": "code",
   "execution_count": 30,
   "id": "d44f854a-cc51-40e5-98b9-074677cb8f1c",
   "metadata": {},
   "outputs": [
    {
     "data": {
      "image/png": "[encoded data removed]",
      "text/plain": [
       "<Figure size 640x480 with 2 Axes>"
      ]
     },
     "metadata": {},
     "output_type": "display_data"
    }
   ],
   "source": [
    "ig, axes = plt.subplots(1,2)\n",
    "\n",
    "g1=sns.countplot(y=data.personal_status,linewidth=1.2, ax=axes[0])\n",
    "g1.set_title(\"Applicant Distribution by \\n personal_status\")\n",
    "g1.set_xlabel(\"Count\")\n",
    "\n",
    "g2=sns.countplot(y=data.employment_st,linewidth=1.2, ax=axes[1])\n",
    "g2.set_title(\"Applicant Distribution by \\n employment_st\")\n",
    "g2.set_xlabel(\"Count\")\n",
    "\n",
    "fig.set_size_inches(14,5)\n",
    "\n",
    "plt.tight_layout()\n",
    "\n",
    "\n",
    "plt.show()"
   ]
  },
  {
   "cell_type": "code",
   "execution_count": 31,
   "id": "3ff87865-5680-4dc7-a8d2-2162258a5fc5",
   "metadata": {},
   "outputs": [
    {
     "data": {
      "image/png": "[encoded data removed]",
      "text/plain": [
       "<Figure size 640x480 with 2 Axes>"
      ]
     },
     "metadata": {},
     "output_type": "display_data"
    }
   ],
   "source": [
    "ig, axes = plt.subplots(1,2)\n",
    "\n",
    "g1=sns.countplot(y=data.installment_type,linewidth=1.2, ax=axes[0])\n",
    "g1.set_title(\"Applicant Distribution by \\n installment_type\")\n",
    "g1.set_xlabel(\"Count\")\n",
    "\n",
    "g2=sns.countplot(y=data.job_type,linewidth=1.2, ax=axes[1])\n",
    "g2.set_title(\"Applicant Distribution by \\n job_type\")\n",
    "g2.set_xlabel(\"Count\")\n",
    "\n",
    "fig.set_size_inches(14,5)\n",
    "\n",
    "plt.tight_layout()\n",
    "\n",
    "\n",
    "plt.show()"
   ]
  },
  {
   "cell_type": "code",
   "execution_count": 32,
   "id": "9d71c578-6606-4826-b02d-59e6eedd9048",
   "metadata": {},
   "outputs": [
    {
     "name": "stdout",
     "output_type": "stream",
     "text": [
      "<class 'pandas.core.frame.DataFrame'>\n",
      "RangeIndex: 800 entries, 0 to 799\n",
      "Data columns (total 18 columns):\n",
      " #   Column            Non-Null Count  Dtype  \n",
      "---  ------            --------------  -----  \n",
      " 0   duration_month    800 non-null    float64\n",
      " 1   credit_history    800 non-null    object \n",
      " 2   purpose           800 non-null    object \n",
      " 3   credit_amount     800 non-null    int64  \n",
      " 4   employment_st     800 non-null    object \n",
      " 5   poi               800 non-null    int64  \n",
      " 6   personal_status   800 non-null    object \n",
      " 7   gurantors         800 non-null    object \n",
      " 8   resident_since    800 non-null    float64\n",
      " 9   property_type     800 non-null    object \n",
      " 10  age               800 non-null    float64\n",
      " 11  installment_type  800 non-null    object \n",
      " 12  housing_type      800 non-null    object \n",
      " 13  credits_no        800 non-null    int64  \n",
      " 14  job_type          800 non-null    object \n",
      " 15  liables           800 non-null    int64  \n",
      " 16  telephone         800 non-null    object \n",
      " 17  foreigner         800 non-null    object \n",
      "dtypes: float64(3), int64(4), object(11)\n",
      "memory usage: 112.6+ KB\n"
     ]
    }
   ],
   "source": [
    "data.info()"
   ]
  },
  {
   "cell_type": "markdown",
   "id": "5ef29f4a-ef12-47cb-932d-028da7f0cac4",
   "metadata": {},
   "source": [
    "## CONVERTING INTO NUMERICAL VARIABLE"
   ]
  },
  {
   "cell_type": "code",
   "execution_count": 33,
   "id": "1f5ecfb5-e5ef-4241-af22-c3136ae659d9",
   "metadata": {},
   "outputs": [],
   "source": [
    "colname =['duration_month', 'credit_history', 'purpose',\n",
    "       'employment_st', 'poi', 'personal_status', 'gurantors',\n",
    "       'resident_since', 'property_type', 'age', 'installment_type',\n",
    "       'housing_type', 'credits_no', 'job_type', 'liables', 'telephone',\n",
    "       'foreigner']"
   ]
  },
  {
   "cell_type": "code",
   "execution_count": 34,
   "id": "ae884a64-3af5-4924-a307-573b9aa1577e",
   "metadata": {},
   "outputs": [
    {
     "data": {
      "text/plain": [
       "['duration_month',\n",
       " 'credit_history',\n",
       " 'purpose',\n",
       " 'employment_st',\n",
       " 'poi',\n",
       " 'personal_status',\n",
       " 'gurantors',\n",
       " 'resident_since',\n",
       " 'property_type',\n",
       " 'age',\n",
       " 'installment_type',\n",
       " 'housing_type',\n",
       " 'credits_no',\n",
       " 'job_type',\n",
       " 'liables',\n",
       " 'telephone',\n",
       " 'foreigner']"
      ]
     },
     "execution_count": 34,
     "metadata": {},
     "output_type": "execute_result"
    }
   ],
   "source": [
    "colname"
   ]
  },
  {
   "cell_type": "code",
   "execution_count": 35,
   "id": "fcbd0308-886e-4ad0-997a-d9f3568ebedb",
   "metadata": {},
   "outputs": [
    {
     "name": "stdout",
     "output_type": "stream",
     "text": [
      "Feature duration_month\n",
      "mapping {4.0: 0, 5.0: 1, 6.0: 2, 7.0: 3, 8.0: 4, 9.0: 5, 10.0: 6, 11.0: 7, 12.0: 8, 13.0: 9, 14.0: 10, 15.0: 11, 16.0: 12, 18.0: 13, 20.645077720207254: 14, 22.0: 15, 24.0: 16, 26.0: 17, 27.0: 18, 28.0: 19, 30.0: 20, 33.0: 21, 36.0: 22, 39.0: 23, 40.0: 24, 42.0: 25, 45.0: 26, 47.0: 27, 48.0: 28, 54.0: 29, 60.0: 30, 72.0: 31}\n",
      "Feature credit_history\n",
      "mapping {'A30': 0, 'A31': 1, 'A32': 2, 'A33': 3, 'A34': 4}\n",
      "Feature purpose\n",
      "mapping {'business': 0, 'domestic_appliances': 1, 'education': 2, 'furniture/equipment': 3, 'new_car': 4, 'old_car': 5, 'other': 6, 'radio/TV': 7, 'repairing': 8, 'upskilling': 9}\n",
      "Feature employment_st\n",
      "mapping {'A71': 0, 'A72': 1, 'A73': 2, 'A74': 3, 'A75': 4}\n",
      "Feature poi\n",
      "mapping {1: 0, 2: 1, 3: 2, 4: 3}\n",
      "Feature personal_status\n",
      "mapping {'A91': 0, 'A92': 1, 'A93': 2, 'A94': 3}\n",
      "Feature gurantors\n",
      "mapping {'A101': 0, 'A102': 1, 'A103': 2}\n",
      "Feature resident_since\n",
      "mapping {1.0: 0, 2.0: 1, 2.8221092757306225: 2, 3.0: 3, 4.0: 4}\n",
      "Feature property_type\n",
      "mapping {'A121': 0, 'A122': 1, 'A123': 2, 'A124': 3}\n",
      "Feature age\n",
      "mapping {19.0: 0, 20.0: 1, 21.0: 2, 22.0: 3, 23.0: 4, 24.0: 5, 25.0: 6, 26.0: 7, 27.0: 8, 28.0: 9, 29.0: 10, 30.0: 11, 31.0: 12, 32.0: 13, 33.0: 14, 34.0: 15, 35.42372881355932: 16, 36.0: 17, 37.0: 18, 38.0: 19, 39.0: 20, 40.0: 21, 41.0: 22, 42.0: 23, 43.0: 24, 44.0: 25, 45.0: 26, 46.0: 27, 47.0: 28, 48.0: 29, 49.0: 30, 50.0: 31, 51.0: 32, 52.0: 33, 53.0: 34, 54.0: 35, 55.0: 36, 56.0: 37, 57.0: 38, 58.0: 39, 59.0: 40, 60.0: 41, 61.0: 42, 62.0: 43, 63.0: 44, 64.0: 45, 65.0: 46, 66.0: 47, 67.0: 48, 68.0: 49, 70.0: 50, 74.0: 51, 75.0: 52}\n",
      "Feature installment_type\n",
      "mapping {'A141': 0, 'A142': 1, 'A143': 2}\n",
      "Feature housing_type\n",
      "mapping {'A151': 0, 'A152': 1, 'A153': 2}\n",
      "Feature credits_no\n",
      "mapping {1: 0, 2: 1, 3: 2, 4: 3}\n",
      "Feature job_type\n",
      "mapping {'A171': 0, 'A172': 1, 'A173': 2, 'A174': 3}\n",
      "Feature liables\n",
      "mapping {1: 0, 2: 1}\n",
      "Feature telephone\n",
      "mapping {'no': 0, 'yes': 1}\n",
      "Feature foreigner\n",
      "mapping {'foreigner': 0, 'resident': 1}\n"
     ]
    }
   ],
   "source": [
    "from sklearn.preprocessing import LabelEncoder\n",
    "\n",
    "le = LabelEncoder()\n",
    "\n",
    "for x in colname:\n",
    "    data[x]=le.fit_transform(data[x])\n",
    "    le_name_mapping = dict(zip(le.classes_,le.transform(le.classes_)))\n",
    "    print('Feature',x)\n",
    "    print('mapping',le_name_mapping)"
   ]
  },
  {
   "cell_type": "code",
   "execution_count": 36,
   "id": "3d771c1d-5f39-497f-9f6c-c9ea22c38ba2",
   "metadata": {},
   "outputs": [
    {
     "data": {
      "image/png": "[encoded data removed]",
      "text/plain": [
       "<Figure size 1600x1600 with 2 Axes>"
      ]
     },
     "metadata": {},
     "output_type": "display_data"
    }
   ],
   "source": [
    "#multicollinearity is the relationship amongst the multiple independent variables\n",
    "corr_df=data.corr(method=\"pearson\")\n",
    "#print(corr_df)\n",
    "plt.figure(figsize=(16, 16))\n",
    "sns.heatmap(corr_df,vmax=1.0,vmin=-1.0,annot=True)\n",
    "plt.show()"
   ]
  },
  {
   "cell_type": "code",
   "execution_count": 37,
   "id": "2ce68ce6-1bc1-445e-8fc9-431589e2cfda",
   "metadata": {},
   "outputs": [
    {
     "data": {
      "text/html": [
       "<div>\n",
       "<style scoped>\n",
       "    .dataframe tbody tr th:only-of-type {\n",
       "        vertical-align: middle;\n",
       "    }\n",
       "\n",
       "    .dataframe tbody tr th {\n",
       "        vertical-align: top;\n",
       "    }\n",
       "\n",
       "    .dataframe thead th {\n",
       "        text-align: right;\n",
       "    }\n",
       "</style>\n",
       "<table border=\"1\" class=\"dataframe\">\n",
       "  <thead>\n",
       "    <tr style=\"text-align: right;\">\n",
       "      <th></th>\n",
       "      <th>duration_month</th>\n",
       "      <th>credit_history</th>\n",
       "      <th>purpose</th>\n",
       "      <th>credit_amount</th>\n",
       "      <th>employment_st</th>\n",
       "      <th>poi</th>\n",
       "      <th>personal_status</th>\n",
       "      <th>gurantors</th>\n",
       "      <th>resident_since</th>\n",
       "      <th>property_type</th>\n",
       "      <th>age</th>\n",
       "      <th>installment_type</th>\n",
       "      <th>housing_type</th>\n",
       "      <th>credits_no</th>\n",
       "      <th>job_type</th>\n",
       "      <th>liables</th>\n",
       "      <th>telephone</th>\n",
       "      <th>foreigner</th>\n",
       "    </tr>\n",
       "  </thead>\n",
       "  <tbody>\n",
       "    <tr>\n",
       "      <th>0</th>\n",
       "      <td>2</td>\n",
       "      <td>4</td>\n",
       "      <td>7</td>\n",
       "      <td>1169</td>\n",
       "      <td>4</td>\n",
       "      <td>3</td>\n",
       "      <td>2</td>\n",
       "      <td>0</td>\n",
       "      <td>4</td>\n",
       "      <td>0</td>\n",
       "      <td>48</td>\n",
       "      <td>2</td>\n",
       "      <td>1</td>\n",
       "      <td>1</td>\n",
       "      <td>2</td>\n",
       "      <td>0</td>\n",
       "      <td>1</td>\n",
       "      <td>0</td>\n",
       "    </tr>\n",
       "    <tr>\n",
       "      <th>1</th>\n",
       "      <td>28</td>\n",
       "      <td>2</td>\n",
       "      <td>7</td>\n",
       "      <td>5951</td>\n",
       "      <td>2</td>\n",
       "      <td>1</td>\n",
       "      <td>1</td>\n",
       "      <td>0</td>\n",
       "      <td>1</td>\n",
       "      <td>0</td>\n",
       "      <td>3</td>\n",
       "      <td>2</td>\n",
       "      <td>1</td>\n",
       "      <td>0</td>\n",
       "      <td>2</td>\n",
       "      <td>0</td>\n",
       "      <td>0</td>\n",
       "      <td>0</td>\n",
       "    </tr>\n",
       "    <tr>\n",
       "      <th>2</th>\n",
       "      <td>8</td>\n",
       "      <td>4</td>\n",
       "      <td>2</td>\n",
       "      <td>2096</td>\n",
       "      <td>3</td>\n",
       "      <td>1</td>\n",
       "      <td>2</td>\n",
       "      <td>0</td>\n",
       "      <td>3</td>\n",
       "      <td>0</td>\n",
       "      <td>30</td>\n",
       "      <td>2</td>\n",
       "      <td>1</td>\n",
       "      <td>0</td>\n",
       "      <td>1</td>\n",
       "      <td>1</td>\n",
       "      <td>0</td>\n",
       "      <td>0</td>\n",
       "    </tr>\n",
       "    <tr>\n",
       "      <th>3</th>\n",
       "      <td>25</td>\n",
       "      <td>2</td>\n",
       "      <td>3</td>\n",
       "      <td>7882</td>\n",
       "      <td>3</td>\n",
       "      <td>1</td>\n",
       "      <td>2</td>\n",
       "      <td>2</td>\n",
       "      <td>4</td>\n",
       "      <td>1</td>\n",
       "      <td>26</td>\n",
       "      <td>2</td>\n",
       "      <td>2</td>\n",
       "      <td>0</td>\n",
       "      <td>2</td>\n",
       "      <td>1</td>\n",
       "      <td>0</td>\n",
       "      <td>0</td>\n",
       "    </tr>\n",
       "    <tr>\n",
       "      <th>4</th>\n",
       "      <td>16</td>\n",
       "      <td>3</td>\n",
       "      <td>4</td>\n",
       "      <td>4870</td>\n",
       "      <td>2</td>\n",
       "      <td>2</td>\n",
       "      <td>2</td>\n",
       "      <td>0</td>\n",
       "      <td>4</td>\n",
       "      <td>3</td>\n",
       "      <td>34</td>\n",
       "      <td>2</td>\n",
       "      <td>2</td>\n",
       "      <td>1</td>\n",
       "      <td>2</td>\n",
       "      <td>1</td>\n",
       "      <td>0</td>\n",
       "      <td>0</td>\n",
       "    </tr>\n",
       "  </tbody>\n",
       "</table>\n",
       "</div>"
      ],
      "text/plain": [
       "   duration_month  credit_history  purpose  credit_amount  employment_st  poi  \\\n",
       "0               2               4        7           1169              4    3   \n",
       "1              28               2        7           5951              2    1   \n",
       "2               8               4        2           2096              3    1   \n",
       "3              25               2        3           7882              3    1   \n",
       "4              16               3        4           4870              2    2   \n",
       "\n",
       "   personal_status  gurantors  resident_since  property_type  age  \\\n",
       "0                2          0               4              0   48   \n",
       "1                1          0               1              0    3   \n",
       "2                2          0               3              0   30   \n",
       "3                2          2               4              1   26   \n",
       "4                2          0               4              3   34   \n",
       "\n",
       "   installment_type  housing_type  credits_no  job_type  liables  telephone  \\\n",
       "0                 2             1           1         2        0          1   \n",
       "1                 2             1           0         2        0          0   \n",
       "2                 2             1           0         1        1          0   \n",
       "3                 2             2           0         2        1          0   \n",
       "4                 2             2           1         2        1          0   \n",
       "\n",
       "   foreigner  \n",
       "0          0  \n",
       "1          0  \n",
       "2          0  \n",
       "3          0  \n",
       "4          0  "
      ]
     },
     "execution_count": 37,
     "metadata": {},
     "output_type": "execute_result"
    }
   ],
   "source": [
    "data.head()"
   ]
  },
  {
   "cell_type": "code",
   "execution_count": 38,
   "id": "6bdd4713-2b38-45ff-8adb-81829bc945db",
   "metadata": {},
   "outputs": [],
   "source": [
    "data.drop([\"foreigner\"],axis=1,inplace=True)"
   ]
  },
  {
   "cell_type": "markdown",
   "id": "c107f680-446b-41ae-9a75-e9db8e778b92",
   "metadata": {},
   "source": [
    "## SPLITING THE DATA FOR MODEL BUILDING"
   ]
  },
  {
   "cell_type": "code",
   "execution_count": 39,
   "id": "18e00eca-363f-4a14-9a7a-51e2c600dc25",
   "metadata": {},
   "outputs": [
    {
     "data": {
      "text/plain": [
       "(800, 17)"
      ]
     },
     "execution_count": 39,
     "metadata": {},
     "output_type": "execute_result"
    }
   ],
   "source": [
    "data.shape"
   ]
  },
  {
   "cell_type": "code",
   "execution_count": 40,
   "id": "db609313-5fac-4bbe-9c48-c3a7ffab8f89",
   "metadata": {},
   "outputs": [],
   "source": [
    "Y = data.values[:,3]"
   ]
  },
  {
   "cell_type": "code",
   "execution_count": 41,
   "id": "bc231801-2fc4-4058-aa84-b93f150f3f9d",
   "metadata": {},
   "outputs": [
    {
     "data": {
      "image/png": "[encoded data removed]",
      "text/plain": [
       "<Figure size 640x480 with 1 Axes>"
      ]
     },
     "metadata": {},
     "output_type": "display_data"
    }
   ],
   "source": [
    "sns.distplot(Y)\n",
    "plt.show()"
   ]
  },
  {
   "cell_type": "code",
   "execution_count": 42,
   "id": "40dff30c-efa0-468d-a52e-8f8ffb0f151b",
   "metadata": {},
   "outputs": [],
   "source": [
    "Y_log = np.log(Y)"
   ]
  },
  {
   "cell_type": "code",
   "execution_count": 43,
   "id": "d17c4481-04f5-414c-a9e3-711bab8feb8c",
   "metadata": {},
   "outputs": [
    {
     "data": {
      "image/png": "[encoded data removed]",
      "text/plain": [
       "<Figure size 640x480 with 1 Axes>"
      ]
     },
     "metadata": {},
     "output_type": "display_data"
    }
   ],
   "source": [
    " sns.distplot(Y_log)\n",
    " plt.show()"
   ]
  },
  {
   "cell_type": "code",
   "execution_count": 44,
   "id": "10e932de-49bf-472e-9a69-bc9be4e30203",
   "metadata": {},
   "outputs": [
    {
     "name": "stdout",
     "output_type": "stream",
     "text": [
      "[7.06390396 8.69131455 7.64778605 8.97233696 8.49084922 9.11107237\n",
      " 7.94979722 8.84620913 8.02584334 8.56293108 7.16626597 8.36822904\n",
      " 7.35691824 7.08924316 7.24636808 7.15617664 7.79317435 8.99615656\n",
      " 9.43978404 8.14031554 7.66575343 7.8811822  7.71467747 7.4977617\n",
      " 7.63482068 7.22548147 6.05443935 6.01371516 7.78945457 8.82995804\n",
      " 7.55642797 8.29903718 8.67692825 7.14203657 7.29573507 8.46505744\n",
      " 8.71768205 7.64969262 7.11069612 6.12686918 7.75491027 7.05444966\n",
      " 8.73294952 8.7302056  8.7230685  7.23921497 7.74022952 7.20934026\n",
      " 8.88571765 7.63675211 7.75491027 8.69366433 7.14045304 8.1250391\n",
      " 7.70751219 6.6631327  8.77462222 9.16597042 7.58120983 8.73697109\n",
      " 7.23777819 7.33758774 7.57712193 9.57644076 8.06495089 8.55448898\n",
      " 7.68294317 6.91473089 7.50604218 7.78072089 9.00368514 6.59304453\n",
      " 7.05961763 8.69181854 7.58933582 7.33040521 8.28526113 8.47031121\n",
      " 9.15228744 8.25114214 8.68996934 7.10085191 7.3575562  7.47022414\n",
      " 7.74716497 7.25276242 7.16626597 9.44240402 7.71824095 7.01031187\n",
      " 6.42648846 7.25063551 6.68085468 8.19340023 7.18387072 9.67690058\n",
      " 7.60688453 7.87169266 7.75662333 8.86177531 7.29233718 7.75061473\n",
      " 6.83733281 7.5595595  7.8018004  9.38748187 8.77307495 8.71243097\n",
      " 8.95169917 7.25134498 7.27862894 5.97126184 8.74193546 8.96890555\n",
      " 7.42654907 8.18255926 8.87821866 7.66481579 8.36194191 7.76895604\n",
      " 7.51479976 8.26049286 7.47760424 6.66057515 7.56216163 7.65964295\n",
      " 6.55250789 6.45990445 7.52833177 8.16023249 9.04629086 8.83739086\n",
      " 7.90396563 7.59287029 9.22463768 7.12286666 9.06102797 6.64118217\n",
      " 7.91132402 7.53955883 6.56385553 8.47532899 8.13622555 7.80872931\n",
      " 7.73543335 8.1791998  6.75693239 6.52502966 8.58876939 7.36644515\n",
      " 7.20489251 7.56216163 8.673855   8.95647985 8.84894    7.15617664\n",
      " 7.16084591 5.82600011 8.16394095 7.54855598 7.96276393 6.96129605\n",
      " 7.14045304 8.89672492 6.81234509 7.99900721 7.03085748 7.36327959\n",
      " 8.28702503 7.56786261 6.85646198 6.63725803 7.63240113 7.25417785\n",
      " 8.1356399  8.9206563  7.85438121 5.8230459  7.58222919 6.34738921\n",
      " 9.16659745 8.40178234 7.40671073 8.23668532 6.78445706 7.21523998\n",
      " 8.54266599 7.06902343 6.51323011 8.08456242 8.43185314 8.25426877\n",
      " 8.27257061 7.65349491 8.01664788 7.31388683 7.231287   6.85751406\n",
      " 7.92298596 8.36567238 6.84161548 7.06304816 8.54032361 6.80461452\n",
      " 7.30988149 9.27077674 7.56786261 7.26122509 8.78996465 7.25347038\n",
      " 8.03073492 8.25192471 8.57414047 7.55381085 8.11432471 6.83733281\n",
      " 8.04044688 8.27205962 8.01334318 7.21817684 6.43775165 7.09007684\n",
      " 6.56103067 7.99900721 8.44612674 7.86825427 9.3020988  8.97017782\n",
      " 7.2984451  8.05484022 8.34521793 7.8268421  7.66902829 6.76388491\n",
      " 7.34213173 7.50823877 9.58568986 7.92551898 7.16317239 7.83280752\n",
      " 6.81892407 7.37462902 8.43489795 7.07749805 8.14525957 7.13727844\n",
      " 6.57507584 7.09340463 7.56268125 6.07073773 6.50128967 7.71912984\n",
      " 7.67322312 8.33110455 7.61579107 8.91166476 7.8950635  7.6727579\n",
      " 8.24590926 7.05098945 7.41276402 7.37963215 8.57583939 7.91862865\n",
      " 7.11558213 6.68710861 8.74893963 7.33498188 9.10253242 6.90675478\n",
      " 7.886833   7.24565507 9.40664701 8.02617019 9.39249525 7.89989532\n",
      " 7.7848893  7.14045304 8.43620003 7.55013534 8.12207438 7.36137543\n",
      " 7.2758646  7.32646561 8.26307484 9.28005298 8.47386807 8.9335323\n",
      " 6.99576616 6.93147181 6.98100574 9.14825218 8.76701762 8.47553752\n",
      " 8.93971205 9.20633235 8.44998444 7.16006921 7.83002808 7.91753635\n",
      " 6.51025834 8.24380842 7.20340552 6.94505106 9.2229604  7.34148385\n",
      " 8.47866024 6.58892648 7.12044437 5.62040087 8.59062951 8.61450137\n",
      " 8.22924442 6.52941884 7.30921237 7.91790059 6.56244409 8.37816098\n",
      " 6.55250789 8.2005628  8.35443894 7.56941179 7.97590836 7.88570539\n",
      " 6.93537045 8.1309423  8.6657856  7.32974969 8.4058146  6.97354302\n",
      " 8.79709508 7.53048    8.91031578 9.35789794 8.32117831 8.12681372\n",
      " 7.6501687  7.15070146 8.33543148 7.32712329 8.655737   8.18841131\n",
      " 8.07496036 8.3981844  8.28121766 7.28550655 6.78219206 8.23164218\n",
      " 7.46336305 7.0352686  7.11963564 6.86589107 8.07992777 8.73214327\n",
      " 6.58892648 7.1276937  7.75405264 8.40357646 6.65415252 7.7857209\n",
      " 7.12205988 8.13123655 7.71735127 7.47647238 7.81318727 7.34083555\n",
      " 8.25582843 8.20248245 8.14496942 8.00670085 8.03236015 8.71111388\n",
      " 7.67136092 9.52923037 9.6011655  8.94702566 7.74932246 6.74051936\n",
      " 9.56927277 5.89164421 7.70165236 9.47085678 7.15695636 7.19293422\n",
      " 8.35983738 7.71333789 7.02642681 8.90571558 7.75190533 7.27862894\n",
      " 7.50659178 6.89060912 8.08610254 7.57916797 7.7857209  9.37245922\n",
      " 7.85476918 7.76131918 7.10906214 7.32383057 7.29505642 7.54274355\n",
      " 9.06508336 6.68710861 7.97212113 7.62021477 7.69484807 6.95939851\n",
      " 8.08178421 6.84481548 7.58426482 8.88917046 7.73718008 7.37588215\n",
      " 7.23056315 8.67282848 7.85515701 9.04440384 7.93092537 6.94889722\n",
      " 8.06652149 7.61480536 6.86484778 7.37211803 7.92371033 7.92984643\n",
      " 7.91680749 7.04664728 7.18006987 7.08170859 8.14554963 9.33503282\n",
      " 7.53476266 7.62948992 7.6666902  7.30249642 6.49223984 7.16006921\n",
      " 8.12976445 6.41181827 7.54115246 7.39018143 7.87435882 6.57786136\n",
      " 8.5362112  7.12608727 7.51860722 7.85399309 7.26122509 7.32118856\n",
      " 9.31054763 6.24997524 7.92262357 7.88983375 8.47990661 7.89319887\n",
      " 8.27001306 8.12740456 5.83773045 8.43250638 8.1942293  7.4506608\n",
      " 8.01201824 6.62539237 7.57558465 7.98070782 7.41397029 8.8871002\n",
      " 7.92443418 8.45083969 8.03657341 6.10479323 6.48310735 7.12125245\n",
      " 7.12689081 8.04366335 7.851272   8.54714027 6.94408721 7.2984451\n",
      " 8.18116086 7.09090982 8.19478164 6.86693328 7.05875815 7.09754885\n",
      " 8.03171038 8.23137605 7.25700271 8.16564793 7.56734568 9.02617712\n",
      " 7.12044437 5.90808294 7.66011432 8.00503334 9.10875052 7.36833969\n",
      " 7.17088848 7.18765716 8.04654936 8.61122983 7.02642681 7.10332206\n",
      " 7.09589322 7.17701877 7.7664169  8.83200393 7.25347038 9.05812116\n",
      " 6.63200178 8.45233462 7.89618061 6.37161185 7.72090525 6.41181827\n",
      " 7.215975   8.87164567 7.09257372 6.55108034 8.61377529 8.0677762\n",
      " 8.87052255 8.15708379 7.01481435 8.98293776 7.33432935 7.31521839\n",
      " 7.74153359 6.49526556 7.72885582 7.87511928 7.31521839 7.17854548\n",
      " 8.04076899 7.74889134 7.22548147 8.19201691 8.95712414 8.02256895\n",
      " 7.33563398 7.61677581 8.75621009 7.95997453 7.13489085 7.19518732\n",
      " 7.6118424  7.3472997  6.43935037 9.08907628 6.90374726 7.46737107\n",
      " 8.85352256 7.59839933 7.08924316 7.19368582 7.73105314 8.51779301\n",
      " 8.1752661  7.56423848 7.99429499 7.34342623 6.52649486 9.42456426\n",
      " 8.45786773 7.34794382 7.22402481 7.85476918 8.28878581 8.81848227\n",
      " 8.08147504 8.69181854 8.60024675 6.69208374 6.98656646 7.93307977\n",
      " 7.9827577  7.56371967 7.94449216 6.84268328 6.96224346 8.04686951\n",
      " 7.23561914 7.77653503 7.66528472 7.62021477 7.93701749 7.161622\n",
      " 7.10414409 7.71690614 5.95324333 7.58324752 7.36010397 7.90765159\n",
      " 7.21376831 6.83625928 7.27378632 8.35255437 7.92840603 8.25919936\n",
      " 7.75319427 6.82219739 7.51588909 8.11641707 7.15070146 7.94732503\n",
      " 8.41759383 7.89020821 7.62608276 7.17011954 6.60800063 7.12286666\n",
      " 8.118803   8.19753874 7.49997654 9.40951905 9.12227389 8.20958048\n",
      " 8.14351741 6.46146818 8.20303024 7.33302301 8.27231515 7.52725592\n",
      " 7.86326672 7.59034695 7.65728279 7.27031289 8.3044949  8.25114214\n",
      " 8.20521843 7.34794382 7.27517232 7.59085212 7.21155673 7.23921497\n",
      " 7.22693602 9.65841787 7.3085428  8.38251829 6.62007321 7.17625453\n",
      " 8.43879912 7.52348131 7.53902706 8.98469369 8.43010908 7.23417718\n",
      " 6.85329909 6.52795792 8.91945317 7.56112159 7.7419679  8.99788945\n",
      " 7.76046703 8.28727676 6.78897174 9.23229754 8.34782735 8.75794088\n",
      " 7.16780918 6.80239476 7.71467747 6.95654544 6.95368421 8.75052467\n",
      " 8.15937474 8.191186   8.48528964 8.01201824 8.32820949 8.65556286\n",
      " 9.2462865  7.64012317 7.85554468 8.41847722 8.54675199 8.62962862\n",
      " 7.77653503 7.28138566 7.33823815 7.73149203 7.2984451  8.53758388\n",
      " 9.19593714 8.7837027  7.20563518 7.95927596 7.92044651 8.20275638\n",
      " 6.88243747 7.87511928 7.97108575 8.45871626 7.73368357 7.11963564\n",
      " 7.00578902 6.83087423 7.49554194 7.55223729 7.02375895 8.75321348\n",
      " 7.2276625  7.82524529 7.83518376 8.57998018 8.78874588 7.99598047\n",
      " 7.09506438 7.65822753 6.44413126 7.08840878 7.81439963 7.03702761\n",
      " 9.54873932 8.93537707 8.03171038 7.31654818 8.05452261 8.7238821\n",
      " 7.19818358 6.07073773 7.11314211 6.67203295 7.85166118 5.52146092\n",
      " 7.18235211 7.54009032 8.76655015 7.15070146 8.76452191 7.59438124\n",
      " 6.63331843 7.8644199  8.12563099 8.29154651 9.35530614 8.384804\n",
      " 8.81892609 8.36170829 7.75147532 6.95463886 8.05832731 7.81722279\n",
      " 9.55951728 7.49387389 7.82843636 7.14991684 8.56560233 8.01598781\n",
      " 6.0591232  6.88346259 6.73459166 8.66060065 7.34923082 7.158514\n",
      " 7.16935002 7.14755927 7.23921497 6.53813982 8.52615293 7.66105638\n",
      " 7.70255611 9.44778123 7.8091354  7.05185562 8.04173471 7.97281078\n",
      " 8.19340023 7.41155629 7.94165125 8.99528899 8.09407315 7.70661291\n",
      " 7.29979737 7.22329568 8.17046858 8.16308638 8.65014942 8.26152645\n",
      " 8.5037026  7.57044325 7.25134498 6.72862861 8.77462222 7.57095858\n",
      " 7.89170466 7.91971976 8.73616807 8.69918136 7.0800265  8.75036628\n",
      " 7.10742547 7.96970358 8.02682358 7.74109909 8.92412389 7.13727844\n",
      " 6.57507584 7.34536484]\n"
     ]
    }
   ],
   "source": [
    "print(Y_log)"
   ]
  },
  {
   "cell_type": "code",
   "execution_count": 45,
   "id": "945b116b-59ea-42c7-ac46-616bb2d9748a",
   "metadata": {},
   "outputs": [],
   "source": [
    "X = data.values[:,(0,1,2,4,5,6,7,8,9,10,11,12,13,14,15,16)]"
   ]
  },
  {
   "cell_type": "code",
   "execution_count": 46,
   "id": "cb097d30-bd70-4b0a-8a21-fa4e6702a11f",
   "metadata": {},
   "outputs": [],
   "source": [
    "#print(X)"
   ]
  },
  {
   "cell_type": "code",
   "execution_count": 47,
   "id": "8950a985-ea77-467a-a92e-8aa2abf3c57d",
   "metadata": {},
   "outputs": [
    {
     "name": "stdout",
     "output_type": "stream",
     "text": [
      "(800, 16)\n",
      "(800,)\n"
     ]
    }
   ],
   "source": [
    "print(X.shape)\n",
    "print(Y_log.shape)"
   ]
  },
  {
   "cell_type": "markdown",
   "id": "65f2ab20-b656-4c8b-905f-705899b838ab",
   "metadata": {},
   "source": [
    "## SCALING THE DATASET"
   ]
  },
  {
   "cell_type": "code",
   "execution_count": 48,
   "id": "36cc3c83-0a78-4a24-8bc4-e7e76a2f541c",
   "metadata": {},
   "outputs": [],
   "source": [
    "from sklearn.preprocessing import StandardScaler\n",
    "\n",
    "scaler= StandardScaler()\n",
    "\n",
    "scaler.fit(X)\n",
    "X= scaler.transform(X)"
   ]
  },
  {
   "cell_type": "markdown",
   "id": "64591345-a962-4be9-9d60-993ba77d2084",
   "metadata": {},
   "source": [
    "## CONVERTING AND SPLITING THE DATA INTO TEST AND TRAIN"
   ]
  },
  {
   "cell_type": "code",
   "execution_count": 49,
   "id": "91330694-3cc6-4179-9572-698540c0df08",
   "metadata": {},
   "outputs": [],
   "source": [
    "from sklearn.model_selection import train_test_split\n",
    "\n",
    "#Split the data into test and train\n",
    "X_train, X_test, Y_train, Y_test = train_test_split(X, Y_log, test_size=0.2,\n",
    "                                                    random_state=10) "
   ]
  },
  {
   "cell_type": "code",
   "execution_count": 50,
   "id": "0e6036db-b8c1-4899-a679-dd373caefd83",
   "metadata": {},
   "outputs": [],
   "source": [
    "#1 predicting using the DecisionTreeRegressor\n",
    "from sklearn.tree import DecisionTreeRegressor\n",
    "\n",
    "model_DecisionTree=DecisionTreeRegressor(criterion=\"squared_error\",random_state=10)\n",
    "model_DecisionTree.fit(X_train,Y_train)\n",
    "#fit the model on the data and predict the values\n",
    "Y_pred=model_DecisionTree.predict(X_test)"
   ]
  },
  {
   "cell_type": "code",
   "execution_count": 51,
   "id": "bcd218e8-d77e-44e6-be8a-f823f0197128",
   "metadata": {},
   "outputs": [
    {
     "data": {
      "text/plain": [
       "0.999918783733992"
      ]
     },
     "execution_count": 51,
     "metadata": {},
     "output_type": "execute_result"
    }
   ],
   "source": [
    "model_DecisionTree.score(X_train, Y_train)"
   ]
  },
  {
   "cell_type": "code",
   "execution_count": 52,
   "id": "b770c337-eaa6-4b7b-8df5-697e6ab9d3c3",
   "metadata": {},
   "outputs": [
    {
     "name": "stdout",
     "output_type": "stream",
     "text": [
      "R-squared: 0.2707015335605977\n",
      "RMSE: 0.6991770290078249\n",
      "Adj R-square: 0.25579888290538644\n"
     ]
    }
   ],
   "source": [
    "from sklearn.metrics import r2_score,mean_squared_error\n",
    "import numpy as np\n",
    "\n",
    "r2=r2_score(Y_test,Y_pred)\n",
    "print(\"R-squared:\",r2)\n",
    "\n",
    "rmse=np.sqrt(mean_squared_error(Y_test,Y_pred))\n",
    "print(\"RMSE:\",rmse)\n",
    "\n",
    "adjusted_r_squared = 1 - (1-r2)*(len(Y)-1)/(len(Y)-X.shape[1]-1)\n",
    "print(\"Adj R-square:\",adjusted_r_squared)"
   ]
  },
  {
   "cell_type": "code",
   "execution_count": 53,
   "id": "3576f760-7100-42d7-9788-7231c9deba28",
   "metadata": {},
   "outputs": [],
   "source": [
    "#2 predicting using the DecisionTreeRegressor\n",
    "from sklearn.tree import DecisionTreeRegressor\n",
    "\n",
    "model_DecisionTree=DecisionTreeRegressor(max_depth=5,min_samples_leaf=5,\n",
    "                                         random_state=10)\n",
    "model_DecisionTree.fit(X_train,Y_train)\n",
    "#fit the model on the data and predict the values\n",
    "Y_pred=model_DecisionTree.predict(X_test)"
   ]
  },
  {
   "cell_type": "code",
   "execution_count": 54,
   "id": "bfac5863-7bef-4734-b339-6e987d92fcbc",
   "metadata": {},
   "outputs": [
    {
     "data": {
      "text/plain": [
       "0.6077060940671781"
      ]
     },
     "execution_count": 54,
     "metadata": {},
     "output_type": "execute_result"
    }
   ],
   "source": [
    "model_DecisionTree.score(X_train, Y_train)"
   ]
  },
  {
   "cell_type": "code",
   "execution_count": 55,
   "id": "b1c7c6fc-4d06-468c-96ea-3d5bcc34cb2e",
   "metadata": {},
   "outputs": [
    {
     "name": "stdout",
     "output_type": "stream",
     "text": [
      "R-squared: 0.599528080318338\n",
      "RMSE: 0.5181082837481613\n",
      "Adj R-square: 0.5913447460719694\n"
     ]
    }
   ],
   "source": [
    "from sklearn.metrics import r2_score,mean_squared_error\n",
    "import numpy as np\n",
    "\n",
    "r2=r2_score(Y_test,Y_pred)\n",
    "print(\"R-squared:\",r2)\n",
    "\n",
    "rmse=np.sqrt(mean_squared_error(Y_test,Y_pred))\n",
    "print(\"RMSE:\",rmse)\n",
    "\n",
    "adjusted_r_squared = 1 - (1-r2)*(len(Y)-1)/(len(Y)-X.shape[1]-1)\n",
    "print(\"Adj R-square:\",adjusted_r_squared)"
   ]
  },
  {
   "cell_type": "code",
   "execution_count": 56,
   "id": "31d1377a-c280-4980-9cdc-95f3e55a93a7",
   "metadata": {},
   "outputs": [
    {
     "name": "stdout",
     "output_type": "stream",
     "text": [
      "[('duration_month', 0.6774773861080975), ('credit_history', 0.0037751217180966128), ('purpose', 0.011247566435425203), ('credit_amount', 0.0014353109072229298), ('employment_st', 0.1705915689092402), ('poi', 0.0), ('personal_status', 0.0), ('gurantors', 0.020793000911746733), ('resident_since', 0.027729003169709786), ('property_type', 0.0), ('age', 0.0), ('installment_type', 0.008028962571561776), ('housing_type', 0.004004384771574861), ('credits_no', 0.060657503749391155), ('job_type', 0.0), ('liables', 0.014260190747933275)]\n"
     ]
    }
   ],
   "source": [
    "print(list(zip(data.columns,model_DecisionTree.feature_importances_)))"
   ]
  },
  {
   "cell_type": "code",
   "execution_count": 57,
   "id": "5358f9ea-ff29-4dd8-a7c8-55bc33135526",
   "metadata": {},
   "outputs": [],
   "source": [
    "#3 predicting using the RandomForestRegressor\n",
    "from sklearn.ensemble import RandomForestRegressor\n",
    "\n",
    "model_DecisionTree=RandomForestRegressor(n_estimators=100,random_state=10)\n",
    "model_DecisionTree.fit(X_train,Y_train)\n",
    "#fit the model on the data and predict the values\n",
    "Y_pred=model_DecisionTree.predict(X_test)"
   ]
  },
  {
   "cell_type": "code",
   "execution_count": 58,
   "id": "d30f5e52-e588-40ed-9f33-d3d0e8cdd363",
   "metadata": {},
   "outputs": [
    {
     "data": {
      "text/plain": [
       "0.9338670583983432"
      ]
     },
     "execution_count": 58,
     "metadata": {},
     "output_type": "execute_result"
    }
   ],
   "source": [
    "model_DecisionTree.score(X_train, Y_train)"
   ]
  },
  {
   "cell_type": "code",
   "execution_count": 59,
   "id": "16787dac-7569-48c1-b221-a623c891e8b2",
   "metadata": {},
   "outputs": [
    {
     "name": "stdout",
     "output_type": "stream",
     "text": [
      "R-squared: 0.6226565907016853\n",
      "RMSE: 0.5029246075921427\n",
      "Adj R-square: 0.6149458696943124\n"
     ]
    }
   ],
   "source": [
    "from sklearn.metrics import r2_score,mean_squared_error\n",
    "import numpy as np\n",
    "\n",
    "r2=r2_score(Y_test,Y_pred)\n",
    "print(\"R-squared:\",r2)\n",
    "\n",
    "rmse=np.sqrt(mean_squared_error(Y_test,Y_pred))\n",
    "print(\"RMSE:\",rmse)\n",
    "\n",
    "adjusted_r_squared = 1 - (1-r2)*(len(Y)-1)/(len(Y)-X.shape[1]-1)\n",
    "print(\"Adj R-square:\",adjusted_r_squared)"
   ]
  },
  {
   "cell_type": "code",
   "execution_count": 60,
   "id": "af09ce5d-7df1-4a9c-802a-5d3b467af09e",
   "metadata": {},
   "outputs": [],
   "source": [
    "#4 predicting using the RandomForestRegressor\n",
    "from sklearn.ensemble import RandomForestRegressor\n",
    "\n",
    "model_DecisionTree=RandomForestRegressor(n_estimators=100,random_state=10,\n",
    "                                        max_depth=5,min_samples_leaf=5)\n",
    "model_DecisionTree.fit(X_train,Y_train)\n",
    "#fit the model on the data and predict the values\n",
    "Y_pred=model_DecisionTree.predict(X_test)"
   ]
  },
  {
   "cell_type": "code",
   "execution_count": 61,
   "id": "755505f7-45da-402f-a697-d337c5709d82",
   "metadata": {},
   "outputs": [
    {
     "data": {
      "text/plain": [
       "0.6597784391023286"
      ]
     },
     "execution_count": 61,
     "metadata": {},
     "output_type": "execute_result"
    }
   ],
   "source": [
    "model_DecisionTree.score(X_train, Y_train)"
   ]
  },
  {
   "cell_type": "code",
   "execution_count": 62,
   "id": "230c2bfa-d8bc-4041-be65-a81dc83d4062",
   "metadata": {},
   "outputs": [
    {
     "name": "stdout",
     "output_type": "stream",
     "text": [
      "R-squared: 0.6530381414963322\n",
      "RMSE: 0.48225347857274226\n",
      "Adj R-square: 0.6459482440045586\n"
     ]
    }
   ],
   "source": [
    "from sklearn.metrics import r2_score,mean_squared_error\n",
    "import numpy as np\n",
    "\n",
    "r2=r2_score(Y_test,Y_pred)\n",
    "print(\"R-squared:\",r2)\n",
    "\n",
    "rmse=np.sqrt(mean_squared_error(Y_test,Y_pred))\n",
    "print(\"RMSE:\",rmse)\n",
    "\n",
    "adjusted_r_squared = 1 - (1-r2)*(len(Y)-1)/(len(Y)-X.shape[1]-1)\n",
    "print(\"Adj R-square:\",adjusted_r_squared)"
   ]
  },
  {
   "cell_type": "code",
   "execution_count": 63,
   "id": "3528cbc7-28d3-4c30-a330-7d0c64ff90c3",
   "metadata": {},
   "outputs": [
    {
     "name": "stdout",
     "output_type": "stream",
     "text": [
      "[('duration_month', 0.6354615460887584), ('credit_history', 0.008134988046699824), ('purpose', 0.01658687708324602), ('credit_amount', 0.008258235605387798), ('employment_st', 0.1718362710967859), ('poi', 0.01364103485023823), ('personal_status', 0.0007212156103924058), ('gurantors', 0.010440342432545347), ('resident_since', 0.024485291051362882), ('property_type', 0.02116376998613457), ('age', 0.004423084227216468), ('installment_type', 0.0036114526712905273), ('housing_type', 0.004950704452590877), ('credits_no', 0.0436880139967348), ('job_type', 0.0015119304634014748), ('liables', 0.031085242337214433)]\n"
     ]
    }
   ],
   "source": [
    "print(list(zip(data.columns,model_DecisionTree.feature_importances_)))"
   ]
  },
  {
   "cell_type": "code",
   "execution_count": 64,
   "id": "624cfbf9-0a64-4f96-8d07-6a86fa31a827",
   "metadata": {},
   "outputs": [],
   "source": [
    "#5 predicting using the ExtratreeRegressor\n",
    "from sklearn.ensemble import ExtraTreesRegressor\n",
    "\n",
    "model_DecisionTree=ExtraTreesRegressor(n_estimators=100,random_state=10, bootstrap=True,\n",
    "                                      max_depth=5, min_samples_leaf=5)\n",
    "                                       \n",
    "model_DecisionTree.fit(X_train,Y_train)\n",
    "#fit the model on the data and predict the values\n",
    "Y_pred=model_DecisionTree.predict(X_test)"
   ]
  },
  {
   "cell_type": "code",
   "execution_count": 65,
   "id": "a6be4002-148b-43aa-9b3a-53def5aaa4fe",
   "metadata": {},
   "outputs": [
    {
     "data": {
      "text/plain": [
       "0.6187267860360279"
      ]
     },
     "execution_count": 65,
     "metadata": {},
     "output_type": "execute_result"
    }
   ],
   "source": [
    "model_DecisionTree.score(X_train, Y_train)"
   ]
  },
  {
   "cell_type": "code",
   "execution_count": 66,
   "id": "640019d8-d54a-46db-b1ca-d1715aec51eb",
   "metadata": {},
   "outputs": [
    {
     "name": "stdout",
     "output_type": "stream",
     "text": [
      "R-squared: 0.6398005098018359\n",
      "RMSE: 0.49136707021177084\n",
      "Adj R-square: 0.6324401115346959\n"
     ]
    }
   ],
   "source": [
    "from sklearn.metrics import r2_score,mean_squared_error\n",
    "import numpy as np\n",
    "\n",
    "r2=r2_score(Y_test,Y_pred)\n",
    "print(\"R-squared:\",r2)\n",
    "\n",
    "rmse=np.sqrt(mean_squared_error(Y_test,Y_pred))\n",
    "print(\"RMSE:\",rmse)\n",
    "\n",
    "adjusted_r_squared = 1 - (1-r2)*(len(Y)-1)/(len(Y)-X.shape[1]-1)\n",
    "print(\"Adj R-square:\",adjusted_r_squared)"
   ]
  },
  {
   "cell_type": "code",
   "execution_count": 67,
   "id": "efc9e71d-9855-43b3-8bf4-b358fd787161",
   "metadata": {},
   "outputs": [],
   "source": [
    "#6 predicting using the KNeighbors_Regressor\n",
    "from sklearn.neighbors import KNeighborsRegressor\n",
    "model_KNN=KNeighborsRegressor(n_neighbors=int(np.sqrt(len(Y_train))), metric='euclidean')\n",
    "#fit the model on the data and predict the values\n",
    "model_KNN.fit(X_train,Y_train)\n",
    "Y_pred=model_KNN.predict(X_test)"
   ]
  },
  {
   "cell_type": "code",
   "execution_count": 68,
   "id": "66e31c8f-4d7a-4ec9-93b7-1fa4a21cce58",
   "metadata": {},
   "outputs": [
    {
     "data": {
      "text/plain": [
       "25"
      ]
     },
     "execution_count": 68,
     "metadata": {},
     "output_type": "execute_result"
    }
   ],
   "source": [
    "int(np.sqrt(len(Y_train)))"
   ]
  },
  {
   "cell_type": "code",
   "execution_count": 69,
   "id": "05425884-c522-4e2e-8747-0ef5a3a6dda2",
   "metadata": {},
   "outputs": [
    {
     "name": "stdout",
     "output_type": "stream",
     "text": [
      "R-squared: 0.40362424181794754\n",
      "RMSE: 0.6322582313015414\n",
      "Adj R-square: 0.39143776400068975\n"
     ]
    }
   ],
   "source": [
    "from sklearn.metrics import r2_score,mean_squared_error\n",
    "import numpy as np\n",
    "\n",
    "r2=r2_score(Y_test,Y_pred)\n",
    "print(\"R-squared:\",r2)\n",
    "\n",
    "rmse=np.sqrt(mean_squared_error(Y_test,Y_pred))\n",
    "print(\"RMSE:\",rmse)\n",
    "\n",
    "adjusted_r_squared = 1 - (1-r2)*(len(Y)-1)/(len(Y)-X.shape[1]-1)\n",
    "print(\"Adj R-square:\",adjusted_r_squared)"
   ]
  },
  {
   "cell_type": "code",
   "execution_count": 70,
   "id": "459016c1-7b93-4731-96da-76715bd98f29",
   "metadata": {},
   "outputs": [],
   "source": [
    "#7 predicting using the Support vector\n",
    "from sklearn.svm import SVR\n",
    "model_SVR=SVR(kernel=\"rbf\",gamma=0.1,C=1)\n",
    "#fit the model on the data and predict the values\n",
    "model_SVR.fit(X_train,Y_train)\n",
    "Y_pred=model_SVR.predict(X_test)"
   ]
  },
  {
   "cell_type": "code",
   "execution_count": 71,
   "id": "ace894f9-e129-4555-8570-ba1353cb4efa",
   "metadata": {},
   "outputs": [
    {
     "name": "stdout",
     "output_type": "stream",
     "text": [
      "R-squared: 0.5514547783972887\n",
      "RMSE: 0.5483244585750893\n",
      "Adj R-square: 0.5422891033709243\n"
     ]
    }
   ],
   "source": [
    "from sklearn.metrics import r2_score,mean_squared_error\n",
    "import numpy as np\n",
    "\n",
    "r2=r2_score(Y_test,Y_pred)\n",
    "print(\"R-squared:\",r2)\n",
    "\n",
    "rmse=np.sqrt(mean_squared_error(Y_test,Y_pred))\n",
    "print(\"RMSE:\",rmse)\n",
    "\n",
    "adjusted_r_squared = 1 - (1-r2)*(len(Y)-1)/(len(Y)-X.shape[1]-1)\n",
    "print(\"Adj R-square:\",adjusted_r_squared)"
   ]
  },
  {
   "cell_type": "code",
   "execution_count": 72,
   "id": "f026d0e3-1976-4ee7-b9c3-cb6c2747018d",
   "metadata": {},
   "outputs": [
    {
     "name": "stdout",
     "output_type": "stream",
     "text": [
      "7.776695907389058\n",
      "[ 4.49658719e-01  4.96101384e-04 -3.04380683e-02 -2.46202620e-02\n",
      " -2.87955845e-01  1.45036061e-02  1.51639094e-04 -2.52463307e-02\n",
      "  9.52990346e-02  3.19349221e-02  4.44945628e-02 -2.09424213e-02\n",
      "  9.54304386e-03  1.08252239e-01  4.14474226e-02  8.09534279e-02]\n"
     ]
    }
   ],
   "source": [
    "#8 predicting using the LinearRegression\n",
    "from sklearn.linear_model import LinearRegression\n",
    "#create a model object\n",
    "lm = LinearRegression()\n",
    "#train the model object\n",
    "lm.fit(X_train,Y_train)\n",
    "\n",
    "# print intercept and coefficients\n",
    "print(lm.intercept_)\n",
    "print(lm.coef_)\n",
    "\n",
    "#predict using the model\n",
    "Y_pred=lm.predict(X_test)"
   ]
  },
  {
   "cell_type": "code",
   "execution_count": 73,
   "id": "a89bf216-db1f-4d54-adfb-5c47f0588cff",
   "metadata": {},
   "outputs": [
    {
     "name": "stdout",
     "output_type": "stream",
     "text": [
      "R-squared: 0.6800181237509866\n",
      "RMSE: 0.46312389759421235\n",
      "Adj R-square: 0.673479541349985\n"
     ]
    }
   ],
   "source": [
    "from sklearn.metrics import r2_score,mean_squared_error\n",
    "import numpy as np\n",
    "\n",
    "r2=r2_score(Y_test,Y_pred)\n",
    "print(\"R-squared:\",r2)\n",
    "\n",
    "rmse=np.sqrt(mean_squared_error(Y_test,Y_pred))\n",
    "print(\"RMSE:\",rmse)\n",
    "\n",
    "adjusted_r_squared = 1 - (1-r2)*(len(Y)-1)/(len(Y)-X.shape[1]-1)\n",
    "print(\"Adj R-square:\",adjusted_r_squared)"
   ]
  },
  {
   "cell_type": "code",
   "execution_count": 74,
   "id": "65e2d77e-02ff-40d3-a429-dfacc5146799",
   "metadata": {},
   "outputs": [],
   "source": [
    "#9 predicting using the AdaBoost_Regressor\n",
    "from sklearn.ensemble import AdaBoostRegressor\n",
    "model_AdaBoost=AdaBoostRegressor(n_estimators=100,\n",
    "                              random_state=10)\n",
    "\n",
    "#fit the model on the data and predict the values\n",
    "model_AdaBoost.fit(X_train,Y_train)\n",
    "\n",
    "Y_pred=model_AdaBoost.predict(X_test)"
   ]
  },
  {
   "cell_type": "code",
   "execution_count": 75,
   "id": "fd180453-fe59-4d38-a5cf-5f107b9dce4b",
   "metadata": {},
   "outputs": [
    {
     "data": {
      "text/plain": [
       "0.609924331159148"
      ]
     },
     "execution_count": 75,
     "metadata": {},
     "output_type": "execute_result"
    }
   ],
   "source": [
    "model_AdaBoost.score(X_train, Y_train)"
   ]
  },
  {
   "cell_type": "code",
   "execution_count": 76,
   "id": "f6de2d4d-d93d-47f7-9131-cd60abea98a7",
   "metadata": {},
   "outputs": [
    {
     "name": "stdout",
     "output_type": "stream",
     "text": [
      "R-squared: 0.5635849534768507\n",
      "RMSE: 0.5408593713497998\n",
      "Adj R-square: 0.5546671492056241\n"
     ]
    }
   ],
   "source": [
    "from sklearn.metrics import r2_score,mean_squared_error\n",
    "import numpy as np\n",
    "\n",
    "r2=r2_score(Y_test,Y_pred)\n",
    "print(\"R-squared:\",r2)\n",
    "\n",
    "rmse=np.sqrt(mean_squared_error(Y_test,Y_pred))\n",
    "print(\"RMSE:\",rmse)\n",
    "\n",
    "adjusted_r_squared = 1 - (1-r2)*(len(Y)-1)/(len(Y)-X.shape[1]-1)\n",
    "print(\"Adj R-square:\",adjusted_r_squared)"
   ]
  },
  {
   "cell_type": "code",
   "execution_count": 77,
   "id": "7e2a9ea8-288e-4d60-8094-cc3cf33f5d94",
   "metadata": {},
   "outputs": [
    {
     "name": "stdout",
     "output_type": "stream",
     "text": [
      "Requirement already satisfied: xgboost in c:\\users\\hp\\anaconda3\\lib\\site-packages (2.0.3)\n",
      "Requirement already satisfied: numpy in c:\\users\\hp\\anaconda3\\lib\\site-packages (from xgboost) (1.26.4)\n",
      "Requirement already satisfied: scipy in c:\\users\\hp\\anaconda3\\lib\\site-packages (from xgboost) (1.11.4)\n",
      "Note: you may need to restart the kernel to use updated packages.\n"
     ]
    }
   ],
   "source": [
    "pip install xgboost"
   ]
  },
  {
   "cell_type": "code",
   "execution_count": 78,
   "id": "aebff245-bb4b-457f-83df-5f76eb222289",
   "metadata": {},
   "outputs": [],
   "source": [
    "#9 predicting using the XGBRegressor\n",
    "from xgboost import XGBRegressor\n",
    "model_XGBoost=XGBRegressor(n_estimators=10000,\n",
    "                              random_state=10)\n",
    "\n",
    "#fit the model on the data and predict the values\n",
    "model_XGBoost.fit(X_train,Y_train)\n",
    "\n",
    "Y_pred=model_XGBoost.predict(X_test)"
   ]
  },
  {
   "cell_type": "code",
   "execution_count": 79,
   "id": "4f0dbeee-74cf-46ee-8621-72d48e8a9a55",
   "metadata": {},
   "outputs": [
    {
     "data": {
      "text/plain": [
       "0.9999035997286991"
      ]
     },
     "execution_count": 79,
     "metadata": {},
     "output_type": "execute_result"
    }
   ],
   "source": [
    "model_XGBoost.score(X_train, Y_train)"
   ]
  },
  {
   "cell_type": "code",
   "execution_count": 80,
   "id": "8fadb08b-ecb4-462c-bf77-6e16096faa02",
   "metadata": {},
   "outputs": [
    {
     "name": "stdout",
     "output_type": "stream",
     "text": [
      "R-squared: 0.5370457908928761\n",
      "RMSE: 0.5570619816249194\n",
      "Adj R-square: 0.52758567934024\n"
     ]
    }
   ],
   "source": [
    "from sklearn.metrics import r2_score,mean_squared_error\n",
    "import numpy as np\n",
    "\n",
    "r2=r2_score(Y_test,Y_pred)\n",
    "print(\"R-squared:\",r2)\n",
    "\n",
    "rmse=np.sqrt(mean_squared_error(Y_test,Y_pred))\n",
    "print(\"RMSE:\",rmse)\n",
    "\n",
    "adjusted_r_squared = 1 - (1-r2)*(len(Y)-1)/(len(Y)-X.shape[1]-1)\n",
    "print(\"Adj R-square:\",adjusted_r_squared)"
   ]
  },
  {
   "cell_type": "code",
   "execution_count": 81,
   "id": "518df9bc-ad02-40ec-b44e-b5a511179d29",
   "metadata": {},
   "outputs": [
    {
     "data": {
      "text/html": [
       "<div>\n",
       "<style scoped>\n",
       "    .dataframe tbody tr th:only-of-type {\n",
       "        vertical-align: middle;\n",
       "    }\n",
       "\n",
       "    .dataframe tbody tr th {\n",
       "        vertical-align: top;\n",
       "    }\n",
       "\n",
       "    .dataframe thead th {\n",
       "        text-align: right;\n",
       "    }\n",
       "</style>\n",
       "<table border=\"1\" class=\"dataframe\">\n",
       "  <thead>\n",
       "    <tr style=\"text-align: right;\">\n",
       "      <th></th>\n",
       "      <th>duration_month</th>\n",
       "      <th>credit_history</th>\n",
       "      <th>purpose</th>\n",
       "      <th>credit_amount</th>\n",
       "      <th>employment_st</th>\n",
       "      <th>poi</th>\n",
       "      <th>personal_status</th>\n",
       "      <th>gurantors</th>\n",
       "      <th>resident_since</th>\n",
       "      <th>property_type</th>\n",
       "      <th>age</th>\n",
       "      <th>installment_type</th>\n",
       "      <th>housing_type</th>\n",
       "      <th>credits_no</th>\n",
       "      <th>job_type</th>\n",
       "      <th>liables</th>\n",
       "      <th>telephone</th>\n",
       "    </tr>\n",
       "  </thead>\n",
       "  <tbody>\n",
       "    <tr>\n",
       "      <th>0</th>\n",
       "      <td>2</td>\n",
       "      <td>4</td>\n",
       "      <td>7</td>\n",
       "      <td>1169</td>\n",
       "      <td>4</td>\n",
       "      <td>3</td>\n",
       "      <td>2</td>\n",
       "      <td>0</td>\n",
       "      <td>4</td>\n",
       "      <td>0</td>\n",
       "      <td>48</td>\n",
       "      <td>2</td>\n",
       "      <td>1</td>\n",
       "      <td>1</td>\n",
       "      <td>2</td>\n",
       "      <td>0</td>\n",
       "      <td>1</td>\n",
       "    </tr>\n",
       "    <tr>\n",
       "      <th>1</th>\n",
       "      <td>28</td>\n",
       "      <td>2</td>\n",
       "      <td>7</td>\n",
       "      <td>5951</td>\n",
       "      <td>2</td>\n",
       "      <td>1</td>\n",
       "      <td>1</td>\n",
       "      <td>0</td>\n",
       "      <td>1</td>\n",
       "      <td>0</td>\n",
       "      <td>3</td>\n",
       "      <td>2</td>\n",
       "      <td>1</td>\n",
       "      <td>0</td>\n",
       "      <td>2</td>\n",
       "      <td>0</td>\n",
       "      <td>0</td>\n",
       "    </tr>\n",
       "    <tr>\n",
       "      <th>2</th>\n",
       "      <td>8</td>\n",
       "      <td>4</td>\n",
       "      <td>2</td>\n",
       "      <td>2096</td>\n",
       "      <td>3</td>\n",
       "      <td>1</td>\n",
       "      <td>2</td>\n",
       "      <td>0</td>\n",
       "      <td>3</td>\n",
       "      <td>0</td>\n",
       "      <td>30</td>\n",
       "      <td>2</td>\n",
       "      <td>1</td>\n",
       "      <td>0</td>\n",
       "      <td>1</td>\n",
       "      <td>1</td>\n",
       "      <td>0</td>\n",
       "    </tr>\n",
       "    <tr>\n",
       "      <th>3</th>\n",
       "      <td>25</td>\n",
       "      <td>2</td>\n",
       "      <td>3</td>\n",
       "      <td>7882</td>\n",
       "      <td>3</td>\n",
       "      <td>1</td>\n",
       "      <td>2</td>\n",
       "      <td>2</td>\n",
       "      <td>4</td>\n",
       "      <td>1</td>\n",
       "      <td>26</td>\n",
       "      <td>2</td>\n",
       "      <td>2</td>\n",
       "      <td>0</td>\n",
       "      <td>2</td>\n",
       "      <td>1</td>\n",
       "      <td>0</td>\n",
       "    </tr>\n",
       "    <tr>\n",
       "      <th>4</th>\n",
       "      <td>16</td>\n",
       "      <td>3</td>\n",
       "      <td>4</td>\n",
       "      <td>4870</td>\n",
       "      <td>2</td>\n",
       "      <td>2</td>\n",
       "      <td>2</td>\n",
       "      <td>0</td>\n",
       "      <td>4</td>\n",
       "      <td>3</td>\n",
       "      <td>34</td>\n",
       "      <td>2</td>\n",
       "      <td>2</td>\n",
       "      <td>1</td>\n",
       "      <td>2</td>\n",
       "      <td>1</td>\n",
       "      <td>0</td>\n",
       "    </tr>\n",
       "  </tbody>\n",
       "</table>\n",
       "</div>"
      ],
      "text/plain": [
       "   duration_month  credit_history  purpose  credit_amount  employment_st  poi  \\\n",
       "0               2               4        7           1169              4    3   \n",
       "1              28               2        7           5951              2    1   \n",
       "2               8               4        2           2096              3    1   \n",
       "3              25               2        3           7882              3    1   \n",
       "4              16               3        4           4870              2    2   \n",
       "\n",
       "   personal_status  gurantors  resident_since  property_type  age  \\\n",
       "0                2          0               4              0   48   \n",
       "1                1          0               1              0    3   \n",
       "2                2          0               3              0   30   \n",
       "3                2          2               4              1   26   \n",
       "4                2          0               4              3   34   \n",
       "\n",
       "   installment_type  housing_type  credits_no  job_type  liables  telephone  \n",
       "0                 2             1           1         2        0          1  \n",
       "1                 2             1           0         2        0          0  \n",
       "2                 2             1           0         1        1          0  \n",
       "3                 2             2           0         2        1          0  \n",
       "4                 2             2           1         2        1          0  "
      ]
     },
     "execution_count": 81,
     "metadata": {},
     "output_type": "execute_result"
    }
   ],
   "source": [
    "data.head()"
   ]
  },
  {
   "cell_type": "markdown",
   "id": "712003cb-c0d2-4e28-b0c7-b5a39c087be3",
   "metadata": {},
   "source": [
    "# WORKING ON TESTING DATASET"
   ]
  },
  {
   "cell_type": "markdown",
   "id": "e8c43d18-fc38-40a4-8838-ab44fd560f02",
   "metadata": {},
   "source": [
    "## IMPORTING TEST DATASET"
   ]
  },
  {
   "cell_type": "code",
   "execution_count": 82,
   "id": "c4a33ee2-5923-443f-b8f9-200cbc6d4e91",
   "metadata": {},
   "outputs": [],
   "source": [
    "test=pd.read_csv(r'Test.csv')"
   ]
  },
  {
   "cell_type": "code",
   "execution_count": 83,
   "id": "7244898b-8106-483b-ba27-b826c2c06f22",
   "metadata": {},
   "outputs": [
    {
     "data": {
      "text/html": [
       "<div>\n",
       "<style scoped>\n",
       "    .dataframe tbody tr th:only-of-type {\n",
       "        vertical-align: middle;\n",
       "    }\n",
       "\n",
       "    .dataframe tbody tr th {\n",
       "        vertical-align: top;\n",
       "    }\n",
       "\n",
       "    .dataframe thead th {\n",
       "        text-align: right;\n",
       "    }\n",
       "</style>\n",
       "<table border=\"1\" class=\"dataframe\">\n",
       "  <thead>\n",
       "    <tr style=\"text-align: right;\">\n",
       "      <th></th>\n",
       "      <th>serial number</th>\n",
       "      <th>account_info</th>\n",
       "      <th>duration_month</th>\n",
       "      <th>credit_history</th>\n",
       "      <th>purpose</th>\n",
       "      <th>savings_account</th>\n",
       "      <th>employment_st</th>\n",
       "      <th>poi</th>\n",
       "      <th>personal_status</th>\n",
       "      <th>gurantors</th>\n",
       "      <th>resident_since</th>\n",
       "      <th>property_type</th>\n",
       "      <th>age</th>\n",
       "      <th>installment_type</th>\n",
       "      <th>housing_type</th>\n",
       "      <th>credits_no</th>\n",
       "      <th>job_type</th>\n",
       "      <th>liables</th>\n",
       "      <th>telephone</th>\n",
       "      <th>foreigner</th>\n",
       "    </tr>\n",
       "  </thead>\n",
       "  <tbody>\n",
       "    <tr>\n",
       "      <th>0</th>\n",
       "      <td>1</td>\n",
       "      <td>unknown</td>\n",
       "      <td>24.0</td>\n",
       "      <td>A34</td>\n",
       "      <td>education</td>\n",
       "      <td>&lt;100</td>\n",
       "      <td>A75</td>\n",
       "      <td>4</td>\n",
       "      <td>A93</td>\n",
       "      <td>A101</td>\n",
       "      <td>4.0</td>\n",
       "      <td>A124</td>\n",
       "      <td>54.0</td>\n",
       "      <td>A143</td>\n",
       "      <td>A153</td>\n",
       "      <td>2</td>\n",
       "      <td>A173</td>\n",
       "      <td>2</td>\n",
       "      <td>no</td>\n",
       "      <td>foreigner</td>\n",
       "    </tr>\n",
       "    <tr>\n",
       "      <th>1</th>\n",
       "      <td>2</td>\n",
       "      <td>0-199</td>\n",
       "      <td>18.0</td>\n",
       "      <td>A34</td>\n",
       "      <td>radio/TV</td>\n",
       "      <td>&lt;100</td>\n",
       "      <td>A75</td>\n",
       "      <td>3</td>\n",
       "      <td>A92</td>\n",
       "      <td>A103</td>\n",
       "      <td>4.0</td>\n",
       "      <td>A121</td>\n",
       "      <td>48.0</td>\n",
       "      <td>A141</td>\n",
       "      <td>A151</td>\n",
       "      <td>2</td>\n",
       "      <td>A172</td>\n",
       "      <td>1</td>\n",
       "      <td>yes</td>\n",
       "      <td>foreigner</td>\n",
       "    </tr>\n",
       "    <tr>\n",
       "      <th>2</th>\n",
       "      <td>3</td>\n",
       "      <td>&lt;0</td>\n",
       "      <td>NaN</td>\n",
       "      <td>A34</td>\n",
       "      <td>furniture/equipment</td>\n",
       "      <td>&lt;100</td>\n",
       "      <td>A75</td>\n",
       "      <td>1</td>\n",
       "      <td>A92</td>\n",
       "      <td>A101</td>\n",
       "      <td>4.0</td>\n",
       "      <td>A122</td>\n",
       "      <td>24.0</td>\n",
       "      <td>A143</td>\n",
       "      <td>A152</td>\n",
       "      <td>2</td>\n",
       "      <td>A173</td>\n",
       "      <td>1</td>\n",
       "      <td>no</td>\n",
       "      <td>foreigner</td>\n",
       "    </tr>\n",
       "    <tr>\n",
       "      <th>3</th>\n",
       "      <td>4</td>\n",
       "      <td>unknown</td>\n",
       "      <td>12.0</td>\n",
       "      <td>A34</td>\n",
       "      <td>radio/TV</td>\n",
       "      <td>unknown</td>\n",
       "      <td>A75</td>\n",
       "      <td>4</td>\n",
       "      <td>A93</td>\n",
       "      <td>A101</td>\n",
       "      <td>NaN</td>\n",
       "      <td>A123</td>\n",
       "      <td>35.0</td>\n",
       "      <td>A143</td>\n",
       "      <td>A152</td>\n",
       "      <td>2</td>\n",
       "      <td>A173</td>\n",
       "      <td>1</td>\n",
       "      <td>no</td>\n",
       "      <td>foreigner</td>\n",
       "    </tr>\n",
       "    <tr>\n",
       "      <th>4</th>\n",
       "      <td>5</td>\n",
       "      <td>0-199</td>\n",
       "      <td>12.0</td>\n",
       "      <td>A32</td>\n",
       "      <td>new_car</td>\n",
       "      <td>unknown</td>\n",
       "      <td>A71</td>\n",
       "      <td>1</td>\n",
       "      <td>A92</td>\n",
       "      <td>A101</td>\n",
       "      <td>2.0</td>\n",
       "      <td>A121</td>\n",
       "      <td>24.0</td>\n",
       "      <td>A143</td>\n",
       "      <td>A151</td>\n",
       "      <td>1</td>\n",
       "      <td>A171</td>\n",
       "      <td>1</td>\n",
       "      <td>no</td>\n",
       "      <td>foreigner</td>\n",
       "    </tr>\n",
       "  </tbody>\n",
       "</table>\n",
       "</div>"
      ],
      "text/plain": [
       "   serial number account_info  duration_month credit_history  \\\n",
       "0              1      unknown            24.0            A34   \n",
       "1              2        0-199            18.0            A34   \n",
       "2              3           <0             NaN            A34   \n",
       "3              4      unknown            12.0            A34   \n",
       "4              5        0-199            12.0            A32   \n",
       "\n",
       "               purpose savings_account employment_st  poi personal_status  \\\n",
       "0            education            <100           A75    4             A93   \n",
       "1             radio/TV            <100           A75    3             A92   \n",
       "2  furniture/equipment            <100           A75    1             A92   \n",
       "3             radio/TV         unknown           A75    4             A93   \n",
       "4              new_car         unknown           A71    1             A92   \n",
       "\n",
       "  gurantors  resident_since property_type   age installment_type housing_type  \\\n",
       "0      A101             4.0          A124  54.0             A143         A153   \n",
       "1      A103             4.0          A121  48.0             A141         A151   \n",
       "2      A101             4.0          A122  24.0             A143         A152   \n",
       "3      A101             NaN          A123  35.0             A143         A152   \n",
       "4      A101             2.0          A121  24.0             A143         A151   \n",
       "\n",
       "   credits_no job_type  liables telephone  foreigner  \n",
       "0           2     A173        2        no  foreigner  \n",
       "1           2     A172        1       yes  foreigner  \n",
       "2           2     A173        1        no  foreigner  \n",
       "3           2     A173        1        no  foreigner  \n",
       "4           1     A171        1        no  foreigner  "
      ]
     },
     "execution_count": 83,
     "metadata": {},
     "output_type": "execute_result"
    }
   ],
   "source": [
    "test.head()"
   ]
  },
  {
   "cell_type": "code",
   "execution_count": 84,
   "id": "53b2a838-aba6-4f97-a1c4-9e52f75d6296",
   "metadata": {},
   "outputs": [
    {
     "data": {
      "text/plain": [
       "(200, 20)"
      ]
     },
     "execution_count": 84,
     "metadata": {},
     "output_type": "execute_result"
    }
   ],
   "source": [
    "test.shape"
   ]
  },
  {
   "cell_type": "markdown",
   "id": "badf0f26-f93d-43c8-add9-21640cb6287e",
   "metadata": {},
   "source": [
    "## EDA AND PRE-PROCESSING THE DATA"
   ]
  },
  {
   "cell_type": "code",
   "execution_count": 85,
   "id": "f031399b-335a-4138-bd75-16bbb15a5fbd",
   "metadata": {},
   "outputs": [
    {
     "name": "stdout",
     "output_type": "stream",
     "text": [
      "<class 'pandas.core.frame.DataFrame'>\n",
      "RangeIndex: 200 entries, 0 to 199\n",
      "Data columns (total 20 columns):\n",
      " #   Column            Non-Null Count  Dtype  \n",
      "---  ------            --------------  -----  \n",
      " 0   serial number     200 non-null    int64  \n",
      " 1   account_info      200 non-null    object \n",
      " 2   duration_month    190 non-null    float64\n",
      " 3   credit_history    200 non-null    object \n",
      " 4   purpose           200 non-null    object \n",
      " 5   savings_account   200 non-null    object \n",
      " 6   employment_st     200 non-null    object \n",
      " 7   poi               200 non-null    int64  \n",
      " 8   personal_status   200 non-null    object \n",
      " 9   gurantors         200 non-null    object \n",
      " 10  resident_since    194 non-null    float64\n",
      " 11  property_type     200 non-null    object \n",
      " 12  age               194 non-null    float64\n",
      " 13  installment_type  200 non-null    object \n",
      " 14  housing_type      200 non-null    object \n",
      " 15  credits_no        200 non-null    int64  \n",
      " 16  job_type          200 non-null    object \n",
      " 17  liables           200 non-null    int64  \n",
      " 18  telephone         200 non-null    object \n",
      " 19  foreigner         200 non-null    object \n",
      "dtypes: float64(3), int64(4), object(13)\n",
      "memory usage: 31.4+ KB\n"
     ]
    }
   ],
   "source": [
    "test.info()"
   ]
  },
  {
   "cell_type": "code",
   "execution_count": 86,
   "id": "1ce7606b-d135-4ce1-b847-d0bbc65775c7",
   "metadata": {},
   "outputs": [
    {
     "data": {
      "text/plain": [
       "0"
      ]
     },
     "execution_count": 86,
     "metadata": {},
     "output_type": "execute_result"
    }
   ],
   "source": [
    "test.duplicated().sum()"
   ]
  },
  {
   "cell_type": "code",
   "execution_count": 87,
   "id": "b73276bd-92e2-41b9-873a-7d52e6658e7a",
   "metadata": {},
   "outputs": [],
   "source": [
    "test.drop([\"serial number\"],axis=1,inplace=True)"
   ]
  },
  {
   "cell_type": "code",
   "execution_count": 88,
   "id": "82ae9a0a-1e4d-4bcb-9737-3174f042cc0e",
   "metadata": {},
   "outputs": [
    {
     "data": {
      "text/plain": [
       "account_info         0\n",
       "duration_month      10\n",
       "credit_history       0\n",
       "purpose              0\n",
       "savings_account      0\n",
       "employment_st        0\n",
       "poi                  0\n",
       "personal_status      0\n",
       "gurantors            0\n",
       "resident_since       6\n",
       "property_type        0\n",
       "age                  6\n",
       "installment_type     0\n",
       "housing_type         0\n",
       "credits_no           0\n",
       "job_type             0\n",
       "liables              0\n",
       "telephone            0\n",
       "foreigner            0\n",
       "dtype: int64"
      ]
     },
     "execution_count": 88,
     "metadata": {},
     "output_type": "execute_result"
    }
   ],
   "source": [
    "test.isnull().sum()"
   ]
  },
  {
   "cell_type": "code",
   "execution_count": 89,
   "id": "08628adb-de34-41e8-8fd1-83b66763f009",
   "metadata": {},
   "outputs": [
    {
     "data": {
      "text/plain": [
       "account_info        0.00\n",
       "duration_month      1.25\n",
       "credit_history      0.00\n",
       "purpose             0.00\n",
       "savings_account     0.00\n",
       "employment_st       0.00\n",
       "poi                 0.00\n",
       "personal_status     0.00\n",
       "gurantors           0.00\n",
       "resident_since      0.75\n",
       "property_type       0.00\n",
       "age                 0.75\n",
       "installment_type    0.00\n",
       "housing_type        0.00\n",
       "credits_no          0.00\n",
       "job_type            0.00\n",
       "liables             0.00\n",
       "telephone           0.00\n",
       "foreigner           0.00\n",
       "dtype: float64"
      ]
     },
     "execution_count": 89,
     "metadata": {},
     "output_type": "execute_result"
    }
   ],
   "source": [
    "test.isnull().sum()/len(data)*100"
   ]
  },
  {
   "cell_type": "code",
   "execution_count": 90,
   "id": "84934c4c-e725-42fd-ae83-945b21674e76",
   "metadata": {},
   "outputs": [],
   "source": [
    "test.replace('?',np.nan,inplace=True)"
   ]
  },
  {
   "cell_type": "code",
   "execution_count": 91,
   "id": "9805c893-2ef5-413f-a724-d89a31a3542c",
   "metadata": {},
   "outputs": [
    {
     "data": {
      "text/plain": [
       "account_info         9\n",
       "duration_month      10\n",
       "credit_history       0\n",
       "purpose              0\n",
       "savings_account      0\n",
       "employment_st        0\n",
       "poi                  0\n",
       "personal_status      0\n",
       "gurantors            7\n",
       "resident_since       6\n",
       "property_type        0\n",
       "age                  6\n",
       "installment_type     0\n",
       "housing_type         0\n",
       "credits_no           0\n",
       "job_type             0\n",
       "liables              0\n",
       "telephone            0\n",
       "foreigner            9\n",
       "dtype: int64"
      ]
     },
     "execution_count": 91,
     "metadata": {},
     "output_type": "execute_result"
    }
   ],
   "source": [
    "test.isnull().sum()"
   ]
  },
  {
   "cell_type": "code",
   "execution_count": 92,
   "id": "3aeb27a2-d092-4e16-8cdf-d0c8a355cf6d",
   "metadata": {},
   "outputs": [],
   "source": [
    "test.replace('unknown',np.nan,inplace=True)"
   ]
  },
  {
   "cell_type": "code",
   "execution_count": 93,
   "id": "da1937b5-7b12-4092-952e-208579dc4854",
   "metadata": {},
   "outputs": [
    {
     "data": {
      "text/plain": [
       "account_info        84\n",
       "duration_month      10\n",
       "credit_history       0\n",
       "purpose              0\n",
       "savings_account     41\n",
       "employment_st        0\n",
       "poi                  0\n",
       "personal_status      0\n",
       "gurantors            7\n",
       "resident_since       6\n",
       "property_type        0\n",
       "age                  6\n",
       "installment_type     0\n",
       "housing_type         0\n",
       "credits_no           0\n",
       "job_type             0\n",
       "liables              0\n",
       "telephone            0\n",
       "foreigner            9\n",
       "dtype: int64"
      ]
     },
     "execution_count": 93,
     "metadata": {},
     "output_type": "execute_result"
    }
   ],
   "source": [
    "test.isnull().sum()"
   ]
  },
  {
   "cell_type": "code",
   "execution_count": 94,
   "id": "166c1e7e-128d-492a-bc06-39d635a761bb",
   "metadata": {},
   "outputs": [
    {
     "data": {
      "text/plain": [
       "account_info        10.500\n",
       "duration_month       1.250\n",
       "credit_history       0.000\n",
       "purpose              0.000\n",
       "savings_account      5.125\n",
       "employment_st        0.000\n",
       "poi                  0.000\n",
       "personal_status      0.000\n",
       "gurantors            0.875\n",
       "resident_since       0.750\n",
       "property_type        0.000\n",
       "age                  0.750\n",
       "installment_type     0.000\n",
       "housing_type         0.000\n",
       "credits_no           0.000\n",
       "job_type             0.000\n",
       "liables              0.000\n",
       "telephone            0.000\n",
       "foreigner            1.125\n",
       "dtype: float64"
      ]
     },
     "execution_count": 94,
     "metadata": {},
     "output_type": "execute_result"
    }
   ],
   "source": [
    "test.isnull().sum()/len(data)*100"
   ]
  },
  {
   "cell_type": "code",
   "execution_count": 95,
   "id": "54ceec9f-440e-4ffb-9bad-3c1fdaec3714",
   "metadata": {},
   "outputs": [],
   "source": [
    "test.drop([\"account_info\"],axis=1,inplace=True)\n",
    "test.drop([\"savings_account\"],axis=1,inplace=True)"
   ]
  },
  {
   "cell_type": "code",
   "execution_count": 96,
   "id": "4e107e79-66f5-4870-bf73-f4e88e0f2e4f",
   "metadata": {},
   "outputs": [
    {
     "data": {
      "text/plain": [
       "duration_month      1.250\n",
       "credit_history      0.000\n",
       "purpose             0.000\n",
       "employment_st       0.000\n",
       "poi                 0.000\n",
       "personal_status     0.000\n",
       "gurantors           0.875\n",
       "resident_since      0.750\n",
       "property_type       0.000\n",
       "age                 0.750\n",
       "installment_type    0.000\n",
       "housing_type        0.000\n",
       "credits_no          0.000\n",
       "job_type            0.000\n",
       "liables             0.000\n",
       "telephone           0.000\n",
       "foreigner           1.125\n",
       "dtype: float64"
      ]
     },
     "execution_count": 96,
     "metadata": {},
     "output_type": "execute_result"
    }
   ],
   "source": [
    "test.isnull().sum()/len(data)*100"
   ]
  },
  {
   "cell_type": "code",
   "execution_count": 97,
   "id": "dec49b66-601a-438f-a8e1-ea62a4fec90f",
   "metadata": {},
   "outputs": [],
   "source": [
    "for value in['duration_month','gurantors','resident_since','age','telephone','foreigner']:\n",
    "    test[value].fillna(test[value].mode()[0],inplace=True)"
   ]
  },
  {
   "cell_type": "code",
   "execution_count": 98,
   "id": "a75c2f76-d749-4ade-b4a1-1f868019e13b",
   "metadata": {},
   "outputs": [
    {
     "data": {
      "text/plain": [
       "duration_month      0.0\n",
       "credit_history      0.0\n",
       "purpose             0.0\n",
       "employment_st       0.0\n",
       "poi                 0.0\n",
       "personal_status     0.0\n",
       "gurantors           0.0\n",
       "resident_since      0.0\n",
       "property_type       0.0\n",
       "age                 0.0\n",
       "installment_type    0.0\n",
       "housing_type        0.0\n",
       "credits_no          0.0\n",
       "job_type            0.0\n",
       "liables             0.0\n",
       "telephone           0.0\n",
       "foreigner           0.0\n",
       "dtype: float64"
      ]
     },
     "execution_count": 98,
     "metadata": {},
     "output_type": "execute_result"
    }
   ],
   "source": [
    "test.isnull().sum()/len(data)*100"
   ]
  },
  {
   "cell_type": "code",
   "execution_count": 99,
   "id": "5f1333bf-c498-4c15-b67d-2069c79b98ea",
   "metadata": {},
   "outputs": [
    {
     "data": {
      "text/html": [
       "<div>\n",
       "<style scoped>\n",
       "    .dataframe tbody tr th:only-of-type {\n",
       "        vertical-align: middle;\n",
       "    }\n",
       "\n",
       "    .dataframe tbody tr th {\n",
       "        vertical-align: top;\n",
       "    }\n",
       "\n",
       "    .dataframe thead th {\n",
       "        text-align: right;\n",
       "    }\n",
       "</style>\n",
       "<table border=\"1\" class=\"dataframe\">\n",
       "  <thead>\n",
       "    <tr style=\"text-align: right;\">\n",
       "      <th></th>\n",
       "      <th>duration_month</th>\n",
       "      <th>credit_history</th>\n",
       "      <th>purpose</th>\n",
       "      <th>employment_st</th>\n",
       "      <th>poi</th>\n",
       "      <th>personal_status</th>\n",
       "      <th>gurantors</th>\n",
       "      <th>resident_since</th>\n",
       "      <th>property_type</th>\n",
       "      <th>age</th>\n",
       "      <th>installment_type</th>\n",
       "      <th>housing_type</th>\n",
       "      <th>credits_no</th>\n",
       "      <th>job_type</th>\n",
       "      <th>liables</th>\n",
       "      <th>telephone</th>\n",
       "      <th>foreigner</th>\n",
       "    </tr>\n",
       "  </thead>\n",
       "  <tbody>\n",
       "    <tr>\n",
       "      <th>0</th>\n",
       "      <td>24.0</td>\n",
       "      <td>A34</td>\n",
       "      <td>education</td>\n",
       "      <td>A75</td>\n",
       "      <td>4</td>\n",
       "      <td>A93</td>\n",
       "      <td>A101</td>\n",
       "      <td>4.0</td>\n",
       "      <td>A124</td>\n",
       "      <td>54.0</td>\n",
       "      <td>A143</td>\n",
       "      <td>A153</td>\n",
       "      <td>2</td>\n",
       "      <td>A173</td>\n",
       "      <td>2</td>\n",
       "      <td>no</td>\n",
       "      <td>foreigner</td>\n",
       "    </tr>\n",
       "    <tr>\n",
       "      <th>1</th>\n",
       "      <td>18.0</td>\n",
       "      <td>A34</td>\n",
       "      <td>radio/TV</td>\n",
       "      <td>A75</td>\n",
       "      <td>3</td>\n",
       "      <td>A92</td>\n",
       "      <td>A103</td>\n",
       "      <td>4.0</td>\n",
       "      <td>A121</td>\n",
       "      <td>48.0</td>\n",
       "      <td>A141</td>\n",
       "      <td>A151</td>\n",
       "      <td>2</td>\n",
       "      <td>A172</td>\n",
       "      <td>1</td>\n",
       "      <td>yes</td>\n",
       "      <td>foreigner</td>\n",
       "    </tr>\n",
       "    <tr>\n",
       "      <th>2</th>\n",
       "      <td>24.0</td>\n",
       "      <td>A34</td>\n",
       "      <td>furniture/equipment</td>\n",
       "      <td>A75</td>\n",
       "      <td>1</td>\n",
       "      <td>A92</td>\n",
       "      <td>A101</td>\n",
       "      <td>4.0</td>\n",
       "      <td>A122</td>\n",
       "      <td>24.0</td>\n",
       "      <td>A143</td>\n",
       "      <td>A152</td>\n",
       "      <td>2</td>\n",
       "      <td>A173</td>\n",
       "      <td>1</td>\n",
       "      <td>no</td>\n",
       "      <td>foreigner</td>\n",
       "    </tr>\n",
       "    <tr>\n",
       "      <th>3</th>\n",
       "      <td>12.0</td>\n",
       "      <td>A34</td>\n",
       "      <td>radio/TV</td>\n",
       "      <td>A75</td>\n",
       "      <td>4</td>\n",
       "      <td>A93</td>\n",
       "      <td>A101</td>\n",
       "      <td>4.0</td>\n",
       "      <td>A123</td>\n",
       "      <td>35.0</td>\n",
       "      <td>A143</td>\n",
       "      <td>A152</td>\n",
       "      <td>2</td>\n",
       "      <td>A173</td>\n",
       "      <td>1</td>\n",
       "      <td>no</td>\n",
       "      <td>foreigner</td>\n",
       "    </tr>\n",
       "    <tr>\n",
       "      <th>4</th>\n",
       "      <td>12.0</td>\n",
       "      <td>A32</td>\n",
       "      <td>new_car</td>\n",
       "      <td>A71</td>\n",
       "      <td>1</td>\n",
       "      <td>A92</td>\n",
       "      <td>A101</td>\n",
       "      <td>2.0</td>\n",
       "      <td>A121</td>\n",
       "      <td>24.0</td>\n",
       "      <td>A143</td>\n",
       "      <td>A151</td>\n",
       "      <td>1</td>\n",
       "      <td>A171</td>\n",
       "      <td>1</td>\n",
       "      <td>no</td>\n",
       "      <td>foreigner</td>\n",
       "    </tr>\n",
       "  </tbody>\n",
       "</table>\n",
       "</div>"
      ],
      "text/plain": [
       "   duration_month credit_history              purpose employment_st  poi  \\\n",
       "0            24.0            A34            education           A75    4   \n",
       "1            18.0            A34             radio/TV           A75    3   \n",
       "2            24.0            A34  furniture/equipment           A75    1   \n",
       "3            12.0            A34             radio/TV           A75    4   \n",
       "4            12.0            A32              new_car           A71    1   \n",
       "\n",
       "  personal_status gurantors  resident_since property_type   age  \\\n",
       "0             A93      A101             4.0          A124  54.0   \n",
       "1             A92      A103             4.0          A121  48.0   \n",
       "2             A92      A101             4.0          A122  24.0   \n",
       "3             A93      A101             4.0          A123  35.0   \n",
       "4             A92      A101             2.0          A121  24.0   \n",
       "\n",
       "  installment_type housing_type  credits_no job_type  liables telephone  \\\n",
       "0             A143         A153           2     A173        2        no   \n",
       "1             A141         A151           2     A172        1       yes   \n",
       "2             A143         A152           2     A173        1        no   \n",
       "3             A143         A152           2     A173        1        no   \n",
       "4             A143         A151           1     A171        1        no   \n",
       "\n",
       "   foreigner  \n",
       "0  foreigner  \n",
       "1  foreigner  \n",
       "2  foreigner  \n",
       "3  foreigner  \n",
       "4  foreigner  "
      ]
     },
     "execution_count": 99,
     "metadata": {},
     "output_type": "execute_result"
    }
   ],
   "source": [
    "test.head()"
   ]
  },
  {
   "cell_type": "code",
   "execution_count": 100,
   "id": "1d6bc94f-5267-4148-be9b-42e243cad46a",
   "metadata": {},
   "outputs": [
    {
     "name": "stdout",
     "output_type": "stream",
     "text": [
      "<class 'pandas.core.frame.DataFrame'>\n",
      "RangeIndex: 200 entries, 0 to 199\n",
      "Data columns (total 17 columns):\n",
      " #   Column            Non-Null Count  Dtype  \n",
      "---  ------            --------------  -----  \n",
      " 0   duration_month    200 non-null    float64\n",
      " 1   credit_history    200 non-null    object \n",
      " 2   purpose           200 non-null    object \n",
      " 3   employment_st     200 non-null    object \n",
      " 4   poi               200 non-null    int64  \n",
      " 5   personal_status   200 non-null    object \n",
      " 6   gurantors         200 non-null    object \n",
      " 7   resident_since    200 non-null    float64\n",
      " 8   property_type     200 non-null    object \n",
      " 9   age               200 non-null    float64\n",
      " 10  installment_type  200 non-null    object \n",
      " 11  housing_type      200 non-null    object \n",
      " 12  credits_no        200 non-null    int64  \n",
      " 13  job_type          200 non-null    object \n",
      " 14  liables           200 non-null    int64  \n",
      " 15  telephone         200 non-null    object \n",
      " 16  foreigner         200 non-null    object \n",
      "dtypes: float64(3), int64(3), object(11)\n",
      "memory usage: 26.7+ KB\n"
     ]
    }
   ],
   "source": [
    "test.info()"
   ]
  },
  {
   "cell_type": "markdown",
   "id": "11c8fa96-1709-43b0-a9b4-9483267593f6",
   "metadata": {},
   "source": [
    "## CONVERTING INTO NUMERICAL VARIABLE"
   ]
  },
  {
   "cell_type": "code",
   "execution_count": 101,
   "id": "1abb0dc9-aad0-4cf8-b7d6-189ea4153f67",
   "metadata": {},
   "outputs": [],
   "source": [
    "colname =['duration_month', 'credit_history', 'purpose',\n",
    "       'employment_st', 'poi', 'personal_status', 'gurantors',\n",
    "       'resident_since', 'property_type', 'age', 'installment_type',\n",
    "       'housing_type', 'credits_no', 'job_type', 'liables', 'telephone',\n",
    "       'foreigner']"
   ]
  },
  {
   "cell_type": "code",
   "execution_count": 102,
   "id": "4a2505cc-711a-420e-8587-676e8f8c9fd8",
   "metadata": {},
   "outputs": [
    {
     "data": {
      "text/plain": [
       "['duration_month',\n",
       " 'credit_history',\n",
       " 'purpose',\n",
       " 'employment_st',\n",
       " 'poi',\n",
       " 'personal_status',\n",
       " 'gurantors',\n",
       " 'resident_since',\n",
       " 'property_type',\n",
       " 'age',\n",
       " 'installment_type',\n",
       " 'housing_type',\n",
       " 'credits_no',\n",
       " 'job_type',\n",
       " 'liables',\n",
       " 'telephone',\n",
       " 'foreigner']"
      ]
     },
     "execution_count": 102,
     "metadata": {},
     "output_type": "execute_result"
    }
   ],
   "source": [
    "colname"
   ]
  },
  {
   "cell_type": "markdown",
   "id": "5ec30fc4-2c70-4766-a441-21c2ff48abcf",
   "metadata": {},
   "source": [
    "## SCALING THE TEST DATASET"
   ]
  },
  {
   "cell_type": "code",
   "execution_count": 103,
   "id": "d165e0ef-2025-466d-859f-d23c8283bb73",
   "metadata": {},
   "outputs": [
    {
     "name": "stdout",
     "output_type": "stream",
     "text": [
      "Feature duration_month\n",
      "mapping {4.0: 0, 6.0: 1, 8.0: 2, 9.0: 3, 10.0: 4, 11.0: 5, 12.0: 6, 13.0: 7, 15.0: 8, 16.0: 9, 18.0: 10, 24.0: 11, 27.0: 12, 28.0: 13, 30.0: 14, 36.0: 15, 42.0: 16, 45.0: 17, 48.0: 18, 60.0: 19}\n",
      "Feature credit_history\n",
      "mapping {'A30': 0, 'A31': 1, 'A32': 2, 'A33': 3, 'A34': 4}\n",
      "Feature purpose\n",
      "mapping {'business': 0, 'domestic_appliances': 1, 'education': 2, 'furniture/equipment': 3, 'new_car': 4, 'old_car': 5, 'other': 6, 'radio/TV': 7, 'repairing': 8, 'upskilling': 9}\n",
      "Feature employment_st\n",
      "mapping {'A71': 0, 'A72': 1, 'A73': 2, 'A74': 3, 'A75': 4}\n",
      "Feature poi\n",
      "mapping {1: 0, 2: 1, 3: 2, 4: 3}\n",
      "Feature personal_status\n",
      "mapping {'A91': 0, 'A92': 1, 'A93': 2, 'A94': 3}\n",
      "Feature gurantors\n",
      "mapping {'A101': 0, 'A102': 1, 'A103': 2}\n",
      "Feature resident_since\n",
      "mapping {1.0: 0, 2.0: 1, 3.0: 2, 4.0: 3}\n",
      "Feature property_type\n",
      "mapping {'A121': 0, 'A122': 1, 'A123': 2, 'A124': 3}\n",
      "Feature age\n",
      "mapping {20.0: 0, 21.0: 1, 22.0: 2, 23.0: 3, 24.0: 4, 25.0: 5, 26.0: 6, 27.0: 7, 28.0: 8, 29.0: 9, 30.0: 10, 31.0: 11, 32.0: 12, 33.0: 13, 34.0: 14, 35.0: 15, 37.0: 16, 38.0: 17, 39.0: 18, 40.0: 19, 41.0: 20, 42.0: 21, 43.0: 22, 44.0: 23, 45.0: 24, 46.0: 25, 47.0: 26, 48.0: 27, 49.0: 28, 50.0: 29, 53.0: 30, 54.0: 31, 55.0: 32, 57.0: 33, 58.0: 34, 59.0: 35, 62.0: 36, 63.0: 37, 64.0: 38, 65.0: 39, 68.0: 40}\n",
      "Feature installment_type\n",
      "mapping {'A141': 0, 'A142': 1, 'A143': 2}\n",
      "Feature housing_type\n",
      "mapping {'A151': 0, 'A152': 1, 'A153': 2}\n",
      "Feature credits_no\n",
      "mapping {1: 0, 2: 1, 3: 2, 4: 3}\n",
      "Feature job_type\n",
      "mapping {'A171': 0, 'A172': 1, 'A173': 2, 'A174': 3}\n",
      "Feature liables\n",
      "mapping {1: 0, 2: 1}\n",
      "Feature telephone\n",
      "mapping {'no': 0, 'yes': 1}\n",
      "Feature foreigner\n",
      "mapping {'foreigner': 0, 'resident': 1}\n"
     ]
    }
   ],
   "source": [
    "from sklearn.preprocessing import LabelEncoder\n",
    "\n",
    "le = LabelEncoder()\n",
    "\n",
    "for x in colname:\n",
    "    test[x]=le.fit_transform(test[x])\n",
    "    le_name_mapping = dict(zip(le.classes_,le.transform(le.classes_)))\n",
    "    print('Feature',x)\n",
    "    print('mapping',le_name_mapping)"
   ]
  },
  {
   "cell_type": "code",
   "execution_count": 104,
   "id": "7e238f6f-5a75-41c8-aceb-638259312fa7",
   "metadata": {},
   "outputs": [],
   "source": [
    "test.drop([\"foreigner\"],axis=1,inplace=True)"
   ]
  },
  {
   "cell_type": "code",
   "execution_count": 105,
   "id": "f3f56fda-9f6d-471f-9299-5d058aa473dc",
   "metadata": {},
   "outputs": [
    {
     "data": {
      "text/html": [
       "<div>\n",
       "<style scoped>\n",
       "    .dataframe tbody tr th:only-of-type {\n",
       "        vertical-align: middle;\n",
       "    }\n",
       "\n",
       "    .dataframe tbody tr th {\n",
       "        vertical-align: top;\n",
       "    }\n",
       "\n",
       "    .dataframe thead th {\n",
       "        text-align: right;\n",
       "    }\n",
       "</style>\n",
       "<table border=\"1\" class=\"dataframe\">\n",
       "  <thead>\n",
       "    <tr style=\"text-align: right;\">\n",
       "      <th></th>\n",
       "      <th>duration_month</th>\n",
       "      <th>credit_history</th>\n",
       "      <th>purpose</th>\n",
       "      <th>employment_st</th>\n",
       "      <th>poi</th>\n",
       "      <th>personal_status</th>\n",
       "      <th>gurantors</th>\n",
       "      <th>resident_since</th>\n",
       "      <th>property_type</th>\n",
       "      <th>age</th>\n",
       "      <th>installment_type</th>\n",
       "      <th>housing_type</th>\n",
       "      <th>credits_no</th>\n",
       "      <th>job_type</th>\n",
       "      <th>liables</th>\n",
       "      <th>telephone</th>\n",
       "    </tr>\n",
       "  </thead>\n",
       "  <tbody>\n",
       "    <tr>\n",
       "      <th>0</th>\n",
       "      <td>11</td>\n",
       "      <td>4</td>\n",
       "      <td>2</td>\n",
       "      <td>4</td>\n",
       "      <td>3</td>\n",
       "      <td>2</td>\n",
       "      <td>0</td>\n",
       "      <td>3</td>\n",
       "      <td>3</td>\n",
       "      <td>31</td>\n",
       "      <td>2</td>\n",
       "      <td>2</td>\n",
       "      <td>1</td>\n",
       "      <td>2</td>\n",
       "      <td>1</td>\n",
       "      <td>0</td>\n",
       "    </tr>\n",
       "    <tr>\n",
       "      <th>1</th>\n",
       "      <td>10</td>\n",
       "      <td>4</td>\n",
       "      <td>7</td>\n",
       "      <td>4</td>\n",
       "      <td>2</td>\n",
       "      <td>1</td>\n",
       "      <td>2</td>\n",
       "      <td>3</td>\n",
       "      <td>0</td>\n",
       "      <td>27</td>\n",
       "      <td>0</td>\n",
       "      <td>0</td>\n",
       "      <td>1</td>\n",
       "      <td>1</td>\n",
       "      <td>0</td>\n",
       "      <td>1</td>\n",
       "    </tr>\n",
       "    <tr>\n",
       "      <th>2</th>\n",
       "      <td>11</td>\n",
       "      <td>4</td>\n",
       "      <td>3</td>\n",
       "      <td>4</td>\n",
       "      <td>0</td>\n",
       "      <td>1</td>\n",
       "      <td>0</td>\n",
       "      <td>3</td>\n",
       "      <td>1</td>\n",
       "      <td>4</td>\n",
       "      <td>2</td>\n",
       "      <td>1</td>\n",
       "      <td>1</td>\n",
       "      <td>2</td>\n",
       "      <td>0</td>\n",
       "      <td>0</td>\n",
       "    </tr>\n",
       "    <tr>\n",
       "      <th>3</th>\n",
       "      <td>6</td>\n",
       "      <td>4</td>\n",
       "      <td>7</td>\n",
       "      <td>4</td>\n",
       "      <td>3</td>\n",
       "      <td>2</td>\n",
       "      <td>0</td>\n",
       "      <td>3</td>\n",
       "      <td>2</td>\n",
       "      <td>15</td>\n",
       "      <td>2</td>\n",
       "      <td>1</td>\n",
       "      <td>1</td>\n",
       "      <td>2</td>\n",
       "      <td>0</td>\n",
       "      <td>0</td>\n",
       "    </tr>\n",
       "    <tr>\n",
       "      <th>4</th>\n",
       "      <td>6</td>\n",
       "      <td>2</td>\n",
       "      <td>4</td>\n",
       "      <td>0</td>\n",
       "      <td>0</td>\n",
       "      <td>1</td>\n",
       "      <td>0</td>\n",
       "      <td>1</td>\n",
       "      <td>0</td>\n",
       "      <td>4</td>\n",
       "      <td>2</td>\n",
       "      <td>0</td>\n",
       "      <td>0</td>\n",
       "      <td>0</td>\n",
       "      <td>0</td>\n",
       "      <td>0</td>\n",
       "    </tr>\n",
       "  </tbody>\n",
       "</table>\n",
       "</div>"
      ],
      "text/plain": [
       "   duration_month  credit_history  purpose  employment_st  poi  \\\n",
       "0              11               4        2              4    3   \n",
       "1              10               4        7              4    2   \n",
       "2              11               4        3              4    0   \n",
       "3               6               4        7              4    3   \n",
       "4               6               2        4              0    0   \n",
       "\n",
       "   personal_status  gurantors  resident_since  property_type  age  \\\n",
       "0                2          0               3              3   31   \n",
       "1                1          2               3              0   27   \n",
       "2                1          0               3              1    4   \n",
       "3                2          0               3              2   15   \n",
       "4                1          0               1              0    4   \n",
       "\n",
       "   installment_type  housing_type  credits_no  job_type  liables  telephone  \n",
       "0                 2             2           1         2        1          0  \n",
       "1                 0             0           1         1        0          1  \n",
       "2                 2             1           1         2        0          0  \n",
       "3                 2             1           1         2        0          0  \n",
       "4                 2             0           0         0        0          0  "
      ]
     },
     "execution_count": 105,
     "metadata": {},
     "output_type": "execute_result"
    }
   ],
   "source": [
    "test.head()"
   ]
  },
  {
   "cell_type": "markdown",
   "id": "03bbe3aa-bc93-4d67-be0a-45e1ba686ecd",
   "metadata": {},
   "source": [
    "## IMPLEMENTING THE BEST ALGORITHM TO TEST DATA"
   ]
  },
  {
   "cell_type": "code",
   "execution_count": 106,
   "id": "ea47e5d1-2656-45f9-9698-d239c32ea48a",
   "metadata": {},
   "outputs": [],
   "source": [
    "X_test_new = test.values"
   ]
  },
  {
   "cell_type": "code",
   "execution_count": 107,
   "id": "a0a5dc42-985d-4535-8e4f-d7c671cbb2d3",
   "metadata": {},
   "outputs": [
    {
     "name": "stdout",
     "output_type": "stream",
     "text": [
      "(200, 16)\n"
     ]
    }
   ],
   "source": [
    "print(X_test_new.shape)"
   ]
  },
  {
   "cell_type": "code",
   "execution_count": 108,
   "id": "49e8f96e-7ce8-4723-8e8f-adbb9d2c6725",
   "metadata": {},
   "outputs": [],
   "source": [
    "X_test_new=scaler.transform(X_test_new)"
   ]
  },
  {
   "cell_type": "code",
   "execution_count": 109,
   "id": "7b0d4be0-0aba-4ea0-9c91-98762c5bd48c",
   "metadata": {},
   "outputs": [
    {
     "name": "stdout",
     "output_type": "stream",
     "text": [
      "[[-0.29075954  1.33983761 -1.05292946 ...  0.14555648  2.40409256\n",
      "  -0.81437194]\n",
      " [-0.43037997  1.33983761  1.14410645 ... -1.38661701 -0.41595736\n",
      "   1.22794014]\n",
      " [-0.29075954  1.33983761 -0.61352228 ...  0.14555648 -0.41595736\n",
      "  -0.81437194]\n",
      " ...\n",
      " [-0.98886168 -0.50503346  1.14410645 ...  0.14555648 -0.41595736\n",
      "  -0.81437194]\n",
      " [ 0.54696302 -0.50503346  1.14410645 ...  0.14555648 -0.41595736\n",
      "   1.22794014]\n",
      " [ 0.54696302  1.33983761  0.26529209 ...  0.14555648 -0.41595736\n",
      "  -0.81437194]]\n"
     ]
    }
   ],
   "source": [
    "print(X_test_new)"
   ]
  },
  {
   "cell_type": "code",
   "execution_count": 110,
   "id": "364de411-1b80-4201-8fcc-c8b4a4d12ce8",
   "metadata": {},
   "outputs": [
    {
     "name": "stdout",
     "output_type": "stream",
     "text": [
      "7.776695907389058\n",
      "[ 4.49658719e-01  4.96101384e-04 -3.04380683e-02 -2.46202620e-02\n",
      " -2.87955845e-01  1.45036061e-02  1.51639094e-04 -2.52463307e-02\n",
      "  9.52990346e-02  3.19349221e-02  4.44945628e-02 -2.09424213e-02\n",
      "  9.54304386e-03  1.08252239e-01  4.14474226e-02  8.09534279e-02]\n"
     ]
    }
   ],
   "source": [
    "# predicting using the LinearRegression\n",
    "from sklearn.linear_model import LinearRegression\n",
    "#create a model object\n",
    "lm = LinearRegression()\n",
    "#train the model object\n",
    "lm.fit(X_train,Y_train)\n",
    "\n",
    "# print intercept and coefficients\n",
    "print(lm.intercept_)\n",
    "print(lm.coef_)\n",
    "\n",
    "#predict using the model\n",
    "Y_pred=lm.predict(X_test_new)\n",
    "#print(Y_pred)"
   ]
  },
  {
   "cell_type": "code",
   "execution_count": 111,
   "id": "563f848e-dd8d-485a-9d7a-b054fa594dfe",
   "metadata": {},
   "outputs": [
    {
     "name": "stdout",
     "output_type": "stream",
     "text": [
      "[7.60458979 7.26452457 8.00309051 7.01141665 7.3903374  8.31292475\n",
      " 6.66268261 6.93266111 8.83161409 7.27777942 7.16647186 6.50191535\n",
      " 7.75813596 8.16863672 8.00329349 8.15700373 7.40474246 7.66920191\n",
      " 8.32534522 6.99181622 7.36314863 7.32842127 8.07026078 6.48574136\n",
      " 7.95498964 7.55364245 7.95779898 7.97249122 7.92223771 8.22061776\n",
      " 7.79661423 7.51295262 8.32678283 7.97963664 7.31315318 6.99849476\n",
      " 7.00709396 7.27024539 7.48937489 7.21093469 7.55845011 7.25204118\n",
      " 7.05887569 7.50003247 7.42917024 8.07370715 7.96289814 7.26303872\n",
      " 6.9576586  6.6357512  7.27808854 7.72299357 7.39389133 7.31494379\n",
      " 8.46652568 7.42623251 6.94412828 7.44333938 7.52599107 7.63653893\n",
      " 7.22328404 7.57875395 7.33409134 7.40075138 7.04526229 7.70080287\n",
      " 7.24880375 7.42267805 7.86974452 6.9450624  8.31637785 7.46866595\n",
      " 7.44835002 7.07832031 7.47579193 7.02031919 7.79762133 7.57148452\n",
      " 7.55397006 7.9513568  7.96318292 8.09410566 7.35439022 7.05963342\n",
      " 7.79667726 7.05374838 7.82492888 8.5562867  7.94495742 7.82079084\n",
      " 7.92000701 7.33041794 6.71649366 8.06201973 7.3783794  8.2679864\n",
      " 7.60946855 7.24572889 7.50050384 7.8832957  7.74276103 7.9041659\n",
      " 8.18111649 7.24962417 7.48801445 7.84319568 7.53500329 8.20782635\n",
      " 7.77464456 7.31278254 7.41377119 7.59346539 7.95767944 7.74722039\n",
      " 7.57779019 8.68496559 7.66316536 7.85106926 8.12064407 7.68261814\n",
      " 7.43893207 8.15067685 7.01441646 7.52726845 7.93715859 7.2115666\n",
      " 7.25023348 8.10610348 7.71472806 6.91547505 7.18496021 7.00741259\n",
      " 7.01428684 7.22063191 6.9029228  7.76964488 6.74809093 7.13477692\n",
      " 7.98521872 8.28994812 8.00564183 6.99703563 7.50514976 7.05937751\n",
      " 7.24042006 8.6442197  7.74095387 7.54262709 7.31037677 7.82368119\n",
      " 7.70891507 8.38364051 7.65014616 8.02867336 7.11342424 7.63584673\n",
      " 7.23148942 7.00756655 7.66145222 7.39763405 7.10667384 8.07140901\n",
      " 7.561111   7.65139754 6.76031259 7.5395907  7.17207688 7.42046968\n",
      " 8.27124603 7.61049105 6.96372399 8.03541911 7.97212819 8.01335922\n",
      " 7.70932095 7.48414563 7.11240929 7.3150902  7.34693009 7.68498887\n",
      " 8.06049976 8.44937983 8.36797275 8.17118766 7.67246237 7.14834302\n",
      " 8.21474224 7.51331187 7.81373215 7.13570883 7.56290916 6.94107579\n",
      " 7.65312343 7.93782418 7.25473821 6.94546292 7.77490941 6.9993633\n",
      " 7.90752341 8.0268581 ]\n"
     ]
    }
   ],
   "source": [
    "print(Y_pred)"
   ]
  },
  {
   "cell_type": "code",
   "execution_count": 112,
   "id": "987a8773-daea-4fe9-81de-628d36670e3a",
   "metadata": {},
   "outputs": [],
   "source": [
    "credit_amount = np.expm1(Y_pred)"
   ]
  },
  {
   "cell_type": "code",
   "execution_count": 113,
   "id": "6759b83e-0021-44bb-8b59-2f997b352d29",
   "metadata": {},
   "outputs": [
    {
     "name": "stdout",
     "output_type": "stream",
     "text": [
      "[2006.3882775  1427.70621332 2989.18490817 1108.22477685 1619.25270178\n",
      " 4075.21747855  781.64766315 1024.21857037 6846.33013693 1446.76956959\n",
      " 1294.26664407  665.41683405 2339.53768886 3527.53030406 2989.79192116\n",
      " 3486.72078304 1642.76145019 2140.37175098 4126.16173324 1086.69517348\n",
      " 1575.79349692 1521.97550667 3196.93568979  654.7249141  2848.75880174\n",
      " 1906.67871454 2856.77599339 2899.07307861 2756.93559638 3715.79776718\n",
      " 2431.35264001 1830.61362053 4132.09924517 2919.869532   1498.89918713\n",
      " 1093.98369913 1103.44029023 1435.90300495 1787.93345362 1353.15739724\n",
      " 1915.87226286 1409.98197306 1162.13670398 1807.10112939 1683.40933353\n",
      " 3207.97596754 2871.38548509 1425.58494423 1050.16946899  760.85115476\n",
      " 1447.21717281 2258.71407055 1625.02119739 1501.58732945 4751.97340739\n",
      " 1678.46826315 1036.04259407 1707.44585319 1854.65138803 2071.55811956\n",
      " 1369.98404203 1955.18994339 1530.63541872 1636.21413983 1146.40975584\n",
      " 2209.121718   1405.42141444 1672.50925744 2615.89692955 1037.0117645\n",
      " 4089.31741914 1751.26752025 1716.02775039 1184.9747701  1763.79872565\n",
      " 1118.14377959 2433.8034933  1941.02111057 1907.30379007 2838.42486072\n",
      " 2872.20358018 3274.10647603 1562.04359316 1163.01837959 2431.50595781\n",
      " 1156.18820673 2501.20813792 5198.33859509 2820.31233585 2490.87530152\n",
      " 2750.79032758 1525.01941639  824.91648757 3170.68963607 1599.99309956\n",
      " 3896.09388325 2016.20577508 1401.10350905 1807.95360002 2651.60033165\n",
      " 2303.82729739 2707.54237382 3571.84148382 1406.57574208 1785.50137305\n",
      " 2547.33549894 1871.4505201  3668.55745599 2378.49737518 1498.34337967\n",
      " 1657.66973303 1984.18104264 2856.43441366 2314.12830804 1953.30554012\n",
      " 5912.33700218 2127.48419763 2567.47922388 3362.18616853 2169.29447784\n",
      " 1699.93277768 3464.72404604 1111.55723352 1857.02327785 2798.39496535\n",
      " 1354.0133664  1407.43364745 3313.63728598 2240.11336927 1006.74964956\n",
      " 1318.43674339 1103.7922568  1111.41303859 1366.35282527  994.17917808\n",
      " 2366.63034817  851.42985594 1253.85702855 2936.21966206 3982.62753217\n",
      " 2996.82357652 1092.38714844 1816.37741963 1162.7205383  1393.67970117\n",
      " 5676.23558017 2299.66587426 1885.78026358 1494.74063679 2498.08811525\n",
      " 2227.12359015 4373.90687108 2099.95264988 3066.6692888  1227.34650613\n",
      " 2070.12398131 1381.27976325 1103.96236482 2123.8409344  1631.11834762\n",
      " 1219.08259746 3200.60973962 1920.97964948 2102.58338588  861.91189524\n",
      " 1880.05995827 1301.54702619 1668.81760018 3908.8177039  2018.26941328\n",
      " 1056.564591   3087.43297552 2898.02047635 3020.04844631 2228.0281243\n",
      " 1778.60308385 1226.10042254 1501.80734514 1550.42646794 2174.44576088\n",
      " 3165.87240944 4671.17428789 4305.89604295 3536.54287397 2147.36501667\n",
      " 1270.99653246 3694.02366924 1831.2717468  2473.3478629  1255.0269887\n",
      " 1924.43878325 1032.88185219 2106.21706098 2800.2588297  1413.79257109\n",
      " 1037.42759834 2379.12768077 1094.93515092 2716.6516053  3061.10570207]\n"
     ]
    }
   ],
   "source": [
    "print(credit_amount)"
   ]
  },
  {
   "cell_type": "markdown",
   "id": "e587403a-8955-4778-acbb-d7b598f593c8",
   "metadata": {},
   "source": [
    "## SAVING THE OUTPUT IN CSV FILE"
   ]
  },
  {
   "cell_type": "code",
   "execution_count": 114,
   "id": "38f00c41-8283-42b3-be9b-8f82c7e9ec81",
   "metadata": {},
   "outputs": [],
   "source": [
    "test[\"credit_amount\"]=credit_amount\n",
    "test.to_csv(\"output_credit_predictions.csv\", header=True, index=False)"
   ]
  },
  {
   "cell_type": "code",
   "execution_count": 115,
   "id": "95f8348a-548d-4772-8265-1b868cb539be",
   "metadata": {},
   "outputs": [
    {
     "data": {
      "text/html": [
       "<div>\n",
       "<style scoped>\n",
       "    .dataframe tbody tr th:only-of-type {\n",
       "        vertical-align: middle;\n",
       "    }\n",
       "\n",
       "    .dataframe tbody tr th {\n",
       "        vertical-align: top;\n",
       "    }\n",
       "\n",
       "    .dataframe thead th {\n",
       "        text-align: right;\n",
       "    }\n",
       "</style>\n",
       "<table border=\"1\" class=\"dataframe\">\n",
       "  <thead>\n",
       "    <tr style=\"text-align: right;\">\n",
       "      <th></th>\n",
       "      <th>duration_month</th>\n",
       "      <th>credit_history</th>\n",
       "      <th>purpose</th>\n",
       "      <th>employment_st</th>\n",
       "      <th>poi</th>\n",
       "      <th>personal_status</th>\n",
       "      <th>gurantors</th>\n",
       "      <th>resident_since</th>\n",
       "      <th>property_type</th>\n",
       "      <th>age</th>\n",
       "      <th>installment_type</th>\n",
       "      <th>housing_type</th>\n",
       "      <th>credits_no</th>\n",
       "      <th>job_type</th>\n",
       "      <th>liables</th>\n",
       "      <th>telephone</th>\n",
       "      <th>credit_amount</th>\n",
       "    </tr>\n",
       "  </thead>\n",
       "  <tbody>\n",
       "    <tr>\n",
       "      <th>0</th>\n",
       "      <td>11</td>\n",
       "      <td>4</td>\n",
       "      <td>2</td>\n",
       "      <td>4</td>\n",
       "      <td>3</td>\n",
       "      <td>2</td>\n",
       "      <td>0</td>\n",
       "      <td>3</td>\n",
       "      <td>3</td>\n",
       "      <td>31</td>\n",
       "      <td>2</td>\n",
       "      <td>2</td>\n",
       "      <td>1</td>\n",
       "      <td>2</td>\n",
       "      <td>1</td>\n",
       "      <td>0</td>\n",
       "      <td>2006.388277</td>\n",
       "    </tr>\n",
       "    <tr>\n",
       "      <th>1</th>\n",
       "      <td>10</td>\n",
       "      <td>4</td>\n",
       "      <td>7</td>\n",
       "      <td>4</td>\n",
       "      <td>2</td>\n",
       "      <td>1</td>\n",
       "      <td>2</td>\n",
       "      <td>3</td>\n",
       "      <td>0</td>\n",
       "      <td>27</td>\n",
       "      <td>0</td>\n",
       "      <td>0</td>\n",
       "      <td>1</td>\n",
       "      <td>1</td>\n",
       "      <td>0</td>\n",
       "      <td>1</td>\n",
       "      <td>1427.706213</td>\n",
       "    </tr>\n",
       "    <tr>\n",
       "      <th>2</th>\n",
       "      <td>11</td>\n",
       "      <td>4</td>\n",
       "      <td>3</td>\n",
       "      <td>4</td>\n",
       "      <td>0</td>\n",
       "      <td>1</td>\n",
       "      <td>0</td>\n",
       "      <td>3</td>\n",
       "      <td>1</td>\n",
       "      <td>4</td>\n",
       "      <td>2</td>\n",
       "      <td>1</td>\n",
       "      <td>1</td>\n",
       "      <td>2</td>\n",
       "      <td>0</td>\n",
       "      <td>0</td>\n",
       "      <td>2989.184908</td>\n",
       "    </tr>\n",
       "    <tr>\n",
       "      <th>3</th>\n",
       "      <td>6</td>\n",
       "      <td>4</td>\n",
       "      <td>7</td>\n",
       "      <td>4</td>\n",
       "      <td>3</td>\n",
       "      <td>2</td>\n",
       "      <td>0</td>\n",
       "      <td>3</td>\n",
       "      <td>2</td>\n",
       "      <td>15</td>\n",
       "      <td>2</td>\n",
       "      <td>1</td>\n",
       "      <td>1</td>\n",
       "      <td>2</td>\n",
       "      <td>0</td>\n",
       "      <td>0</td>\n",
       "      <td>1108.224777</td>\n",
       "    </tr>\n",
       "    <tr>\n",
       "      <th>4</th>\n",
       "      <td>6</td>\n",
       "      <td>2</td>\n",
       "      <td>4</td>\n",
       "      <td>0</td>\n",
       "      <td>0</td>\n",
       "      <td>1</td>\n",
       "      <td>0</td>\n",
       "      <td>1</td>\n",
       "      <td>0</td>\n",
       "      <td>4</td>\n",
       "      <td>2</td>\n",
       "      <td>0</td>\n",
       "      <td>0</td>\n",
       "      <td>0</td>\n",
       "      <td>0</td>\n",
       "      <td>0</td>\n",
       "      <td>1619.252702</td>\n",
       "    </tr>\n",
       "  </tbody>\n",
       "</table>\n",
       "</div>"
      ],
      "text/plain": [
       "   duration_month  credit_history  purpose  employment_st  poi  \\\n",
       "0              11               4        2              4    3   \n",
       "1              10               4        7              4    2   \n",
       "2              11               4        3              4    0   \n",
       "3               6               4        7              4    3   \n",
       "4               6               2        4              0    0   \n",
       "\n",
       "   personal_status  gurantors  resident_since  property_type  age  \\\n",
       "0                2          0               3              3   31   \n",
       "1                1          2               3              0   27   \n",
       "2                1          0               3              1    4   \n",
       "3                2          0               3              2   15   \n",
       "4                1          0               1              0    4   \n",
       "\n",
       "   installment_type  housing_type  credits_no  job_type  liables  telephone  \\\n",
       "0                 2             2           1         2        1          0   \n",
       "1                 0             0           1         1        0          1   \n",
       "2                 2             1           1         2        0          0   \n",
       "3                 2             1           1         2        0          0   \n",
       "4                 2             0           0         0        0          0   \n",
       "\n",
       "   credit_amount  \n",
       "0    2006.388277  \n",
       "1    1427.706213  \n",
       "2    2989.184908  \n",
       "3    1108.224777  \n",
       "4    1619.252702  "
      ]
     },
     "execution_count": 115,
     "metadata": {},
     "output_type": "execute_result"
    }
   ],
   "source": [
    "test.head()"
   ]
  },
  {
   "cell_type": "code",
   "execution_count": 116,
   "id": "8d24b1f8-257b-45bc-9cd9-a74098ba921e",
   "metadata": {},
   "outputs": [],
   "source": [
    "test_output=test[(\"credit_amount\")]"
   ]
  },
  {
   "cell_type": "code",
   "execution_count": 117,
   "id": "3e8b6685-61f1-48e0-979c-8d2a1c145687",
   "metadata": {},
   "outputs": [
    {
     "data": {
      "text/plain": [
       "0    2006.388277\n",
       "1    1427.706213\n",
       "2    2989.184908\n",
       "3    1108.224777\n",
       "4    1619.252702\n",
       "Name: credit_amount, dtype: float64"
      ]
     },
     "execution_count": 117,
     "metadata": {},
     "output_type": "execute_result"
    }
   ],
   "source": [
    "test_output.head()"
   ]
  },
  {
   "cell_type": "code",
   "execution_count": 118,
   "id": "ab9da525-6ac5-4cda-a8a9-234586db3c86",
   "metadata": {},
   "outputs": [],
   "source": [
    "test_output.to_csv(\"output_credit_predictions.csv\", header=True, index=False)"
   ]
  },
  {
   "cell_type": "code",
   "execution_count": null,
   "id": "b9ad07aa-67a9-4797-bfc8-692b7ff0b86d",
   "metadata": {},
   "outputs": [],
   "source": []
  },
  {
   "cell_type": "code",
   "execution_count": null,
   "id": "85cac8d6-4c2b-4363-afd1-8fce6e319dc6",
   "metadata": {},
   "outputs": [],
   "source": []
  }
 ],
 "metadata": {
  "kernelspec": {
   "display_name": "Python 3 (ipykernel)",
   "language": "python",
   "name": "python3"
  },
  "language_info": {
   "codemirror_mode": {
    "name": "ipython",
    "version": 3
   },
   "file_extension": ".py",
   "mimetype": "text/x-python",
   "name": "python",
   "nbconvert_exporter": "python",
   "pygments_lexer": "ipython3",
   "version": "3.11.7"
  }
 },
 "nbformat": 4,
 "nbformat_minor": 5
}
